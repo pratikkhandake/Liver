{
 "cells": [
  {
   "cell_type": "code",
   "execution_count": 1,
   "id": "fec959b7-0a58-4969-b8f6-e5f7adcdede8",
   "metadata": {},
   "outputs": [],
   "source": [
    "from sklearn.tree import DecisionTreeClassifier\n",
    "from sklearn.neighbors import KNeighborsClassifier\n",
    "from sklearn.ensemble import RandomForestClassifier\n",
    "from sklearn.ensemble import AdaBoostClassifier\n",
    "from sklearn.linear_model import LogisticRegression\n",
    "\n",
    "from sklearn.model_selection import GridSearchCV\n",
    "\n",
    "from sklearn.preprocessing import MinMaxScaler,StandardScaler\n",
    "\n",
    "import matplotlib.pyplot as plt\n",
    "import seaborn as sns\n",
    "\n",
    "from sklearn.model_selection import train_test_split\n",
    "import pandas as pd\n",
    "import numpy as np\n",
    "\n",
    "from sklearn.metrics import confusion_matrix, classification_report, accuracy_score, roc_curve\n",
    "\n",
    "import warnings\n",
    "warnings.filterwarnings('ignore')"
   ]
  },
  {
   "cell_type": "markdown",
   "id": "4c24112d-ea4c-4f36-8b31-d8bf0475c82f",
   "metadata": {},
   "source": [
    "## A. Decision Tree"
   ]
  },
  {
   "cell_type": "markdown",
   "id": "b407c153-d043-49f1-9930-c02b9d04dacf",
   "metadata": {},
   "source": [
    "### 1. Problem statement"
   ]
  },
  {
   "cell_type": "code",
   "execution_count": null,
   "id": "aa918e45-e04e-4926-97ba-1f82cadd8b86",
   "metadata": {},
   "outputs": [],
   "source": [
    "target column = 'Selector' - categorical\n",
    "input columns = Age,Gender,\tTB,\tDB,\tAlkphos,Sgpt,Sgot,TP,ALB,A/G, Ratio\t"
   ]
  },
  {
   "cell_type": "markdown",
   "id": "ab7c5e91-8cbd-4702-aed6-f4de212bda14",
   "metadata": {},
   "source": [
    "### 2. Data Gathering"
   ]
  },
  {
   "cell_type": "code",
   "execution_count": 2,
   "id": "e7153649-50b7-4948-8929-e314fc9d2737",
   "metadata": {},
   "outputs": [
    {
     "data": {
      "text/html": [
       "<div>\n",
       "<style scoped>\n",
       "    .dataframe tbody tr th:only-of-type {\n",
       "        vertical-align: middle;\n",
       "    }\n",
       "\n",
       "    .dataframe tbody tr th {\n",
       "        vertical-align: top;\n",
       "    }\n",
       "\n",
       "    .dataframe thead th {\n",
       "        text-align: right;\n",
       "    }\n",
       "</style>\n",
       "<table border=\"1\" class=\"dataframe\">\n",
       "  <thead>\n",
       "    <tr style=\"text-align: right;\">\n",
       "      <th></th>\n",
       "      <th>Age</th>\n",
       "      <th>Gender</th>\n",
       "      <th>TB</th>\n",
       "      <th>DB</th>\n",
       "      <th>Alkphos</th>\n",
       "      <th>Sgpt</th>\n",
       "      <th>Sgot</th>\n",
       "      <th>TP</th>\n",
       "      <th>ALB</th>\n",
       "      <th>A/G Ratio</th>\n",
       "      <th>Selector</th>\n",
       "    </tr>\n",
       "  </thead>\n",
       "  <tbody>\n",
       "    <tr>\n",
       "      <th>0</th>\n",
       "      <td>65</td>\n",
       "      <td>Female</td>\n",
       "      <td>0.7</td>\n",
       "      <td>0.1</td>\n",
       "      <td>187</td>\n",
       "      <td>16</td>\n",
       "      <td>18</td>\n",
       "      <td>6.8</td>\n",
       "      <td>3.3</td>\n",
       "      <td>0.90</td>\n",
       "      <td>1</td>\n",
       "    </tr>\n",
       "    <tr>\n",
       "      <th>1</th>\n",
       "      <td>62</td>\n",
       "      <td>Male</td>\n",
       "      <td>10.9</td>\n",
       "      <td>5.5</td>\n",
       "      <td>699</td>\n",
       "      <td>64</td>\n",
       "      <td>100</td>\n",
       "      <td>7.5</td>\n",
       "      <td>3.2</td>\n",
       "      <td>0.74</td>\n",
       "      <td>1</td>\n",
       "    </tr>\n",
       "    <tr>\n",
       "      <th>2</th>\n",
       "      <td>62</td>\n",
       "      <td>Male</td>\n",
       "      <td>7.3</td>\n",
       "      <td>4.1</td>\n",
       "      <td>490</td>\n",
       "      <td>60</td>\n",
       "      <td>68</td>\n",
       "      <td>7.0</td>\n",
       "      <td>3.3</td>\n",
       "      <td>0.89</td>\n",
       "      <td>1</td>\n",
       "    </tr>\n",
       "    <tr>\n",
       "      <th>3</th>\n",
       "      <td>58</td>\n",
       "      <td>Male</td>\n",
       "      <td>1.0</td>\n",
       "      <td>0.4</td>\n",
       "      <td>182</td>\n",
       "      <td>14</td>\n",
       "      <td>20</td>\n",
       "      <td>6.8</td>\n",
       "      <td>3.4</td>\n",
       "      <td>1.00</td>\n",
       "      <td>1</td>\n",
       "    </tr>\n",
       "    <tr>\n",
       "      <th>4</th>\n",
       "      <td>72</td>\n",
       "      <td>Male</td>\n",
       "      <td>3.9</td>\n",
       "      <td>2.0</td>\n",
       "      <td>195</td>\n",
       "      <td>27</td>\n",
       "      <td>59</td>\n",
       "      <td>7.3</td>\n",
       "      <td>2.4</td>\n",
       "      <td>0.40</td>\n",
       "      <td>1</td>\n",
       "    </tr>\n",
       "    <tr>\n",
       "      <th>...</th>\n",
       "      <td>...</td>\n",
       "      <td>...</td>\n",
       "      <td>...</td>\n",
       "      <td>...</td>\n",
       "      <td>...</td>\n",
       "      <td>...</td>\n",
       "      <td>...</td>\n",
       "      <td>...</td>\n",
       "      <td>...</td>\n",
       "      <td>...</td>\n",
       "      <td>...</td>\n",
       "    </tr>\n",
       "    <tr>\n",
       "      <th>578</th>\n",
       "      <td>60</td>\n",
       "      <td>Male</td>\n",
       "      <td>0.5</td>\n",
       "      <td>0.1</td>\n",
       "      <td>500</td>\n",
       "      <td>20</td>\n",
       "      <td>34</td>\n",
       "      <td>5.9</td>\n",
       "      <td>1.6</td>\n",
       "      <td>0.37</td>\n",
       "      <td>2</td>\n",
       "    </tr>\n",
       "    <tr>\n",
       "      <th>579</th>\n",
       "      <td>40</td>\n",
       "      <td>Male</td>\n",
       "      <td>0.6</td>\n",
       "      <td>0.1</td>\n",
       "      <td>98</td>\n",
       "      <td>35</td>\n",
       "      <td>31</td>\n",
       "      <td>6.0</td>\n",
       "      <td>3.2</td>\n",
       "      <td>1.10</td>\n",
       "      <td>1</td>\n",
       "    </tr>\n",
       "    <tr>\n",
       "      <th>580</th>\n",
       "      <td>52</td>\n",
       "      <td>Male</td>\n",
       "      <td>0.8</td>\n",
       "      <td>0.2</td>\n",
       "      <td>245</td>\n",
       "      <td>48</td>\n",
       "      <td>49</td>\n",
       "      <td>6.4</td>\n",
       "      <td>3.2</td>\n",
       "      <td>1.00</td>\n",
       "      <td>1</td>\n",
       "    </tr>\n",
       "    <tr>\n",
       "      <th>581</th>\n",
       "      <td>31</td>\n",
       "      <td>Male</td>\n",
       "      <td>1.3</td>\n",
       "      <td>0.5</td>\n",
       "      <td>184</td>\n",
       "      <td>29</td>\n",
       "      <td>32</td>\n",
       "      <td>6.8</td>\n",
       "      <td>3.4</td>\n",
       "      <td>1.00</td>\n",
       "      <td>1</td>\n",
       "    </tr>\n",
       "    <tr>\n",
       "      <th>582</th>\n",
       "      <td>38</td>\n",
       "      <td>Male</td>\n",
       "      <td>1.0</td>\n",
       "      <td>0.3</td>\n",
       "      <td>216</td>\n",
       "      <td>21</td>\n",
       "      <td>24</td>\n",
       "      <td>7.3</td>\n",
       "      <td>4.4</td>\n",
       "      <td>1.50</td>\n",
       "      <td>2</td>\n",
       "    </tr>\n",
       "  </tbody>\n",
       "</table>\n",
       "<p>583 rows × 11 columns</p>\n",
       "</div>"
      ],
      "text/plain": [
       "     Age  Gender    TB   DB  Alkphos  Sgpt  Sgot   TP  ALB  A/G Ratio  \\\n",
       "0     65  Female   0.7  0.1      187    16    18  6.8  3.3       0.90   \n",
       "1     62    Male  10.9  5.5      699    64   100  7.5  3.2       0.74   \n",
       "2     62    Male   7.3  4.1      490    60    68  7.0  3.3       0.89   \n",
       "3     58    Male   1.0  0.4      182    14    20  6.8  3.4       1.00   \n",
       "4     72    Male   3.9  2.0      195    27    59  7.3  2.4       0.40   \n",
       "..   ...     ...   ...  ...      ...   ...   ...  ...  ...        ...   \n",
       "578   60    Male   0.5  0.1      500    20    34  5.9  1.6       0.37   \n",
       "579   40    Male   0.6  0.1       98    35    31  6.0  3.2       1.10   \n",
       "580   52    Male   0.8  0.2      245    48    49  6.4  3.2       1.00   \n",
       "581   31    Male   1.3  0.5      184    29    32  6.8  3.4       1.00   \n",
       "582   38    Male   1.0  0.3      216    21    24  7.3  4.4       1.50   \n",
       "\n",
       "     Selector  \n",
       "0           1  \n",
       "1           1  \n",
       "2           1  \n",
       "3           1  \n",
       "4           1  \n",
       "..        ...  \n",
       "578         2  \n",
       "579         1  \n",
       "580         1  \n",
       "581         1  \n",
       "582         2  \n",
       "\n",
       "[583 rows x 11 columns]"
      ]
     },
     "execution_count": 2,
     "metadata": {},
     "output_type": "execute_result"
    }
   ],
   "source": [
    "df = pd.read_csv(\"Liver.csv\")\n",
    "df"
   ]
  },
  {
   "cell_type": "markdown",
   "id": "1e8d05d8-9a88-4b6e-a58a-ac75b87abf4f",
   "metadata": {},
   "source": [
    "### 3. EDA "
   ]
  },
  {
   "cell_type": "code",
   "execution_count": 3,
   "id": "0662c3f5-61b8-443c-b720-becd937b7f01",
   "metadata": {},
   "outputs": [
    {
     "name": "stdout",
     "output_type": "stream",
     "text": [
      "<class 'pandas.core.frame.DataFrame'>\n",
      "RangeIndex: 583 entries, 0 to 582\n",
      "Data columns (total 11 columns):\n",
      " #   Column     Non-Null Count  Dtype  \n",
      "---  ------     --------------  -----  \n",
      " 0   Age        583 non-null    int64  \n",
      " 1   Gender     583 non-null    object \n",
      " 2   TB         583 non-null    float64\n",
      " 3   DB         583 non-null    float64\n",
      " 4   Alkphos    583 non-null    int64  \n",
      " 5   Sgpt       583 non-null    int64  \n",
      " 6   Sgot       583 non-null    int64  \n",
      " 7   TP         583 non-null    float64\n",
      " 8   ALB        583 non-null    float64\n",
      " 9   A/G Ratio  579 non-null    float64\n",
      " 10  Selector   583 non-null    int64  \n",
      "dtypes: float64(5), int64(5), object(1)\n",
      "memory usage: 50.2+ KB\n"
     ]
    }
   ],
   "source": [
    "df.info()"
   ]
  },
  {
   "cell_type": "code",
   "execution_count": 5,
   "id": "c1c2143e-1665-4a83-b051-1c2e94625b19",
   "metadata": {},
   "outputs": [
    {
     "data": {
      "text/plain": [
       "Selector\n",
       "1    416\n",
       "2    167\n",
       "Name: count, dtype: int64"
      ]
     },
     "execution_count": 5,
     "metadata": {},
     "output_type": "execute_result"
    }
   ],
   "source": [
    "df['Selector'].value_counts()"
   ]
  },
  {
   "cell_type": "markdown",
   "id": "ea56b9f7-2192-4637-8426-f6583e65390d",
   "metadata": {},
   "source": [
    "### 4. Feature Engineering"
   ]
  },
  {
   "cell_type": "markdown",
   "id": "28f765fe-e964-4baa-85cf-2ddf9bd1de5e",
   "metadata": {},
   "source": [
    "#### 4.1 checking null values"
   ]
  },
  {
   "cell_type": "code",
   "execution_count": 3,
   "id": "8689d276-5028-4ab7-980c-6872fc8fbc2a",
   "metadata": {},
   "outputs": [
    {
     "data": {
      "text/plain": [
       "Age          0\n",
       "Gender       0\n",
       "TB           0\n",
       "DB           0\n",
       "Alkphos      0\n",
       "Sgpt         0\n",
       "Sgot         0\n",
       "TP           0\n",
       "ALB          0\n",
       "A/G Ratio    4\n",
       "Selector     0\n",
       "dtype: int64"
      ]
     },
     "execution_count": 3,
     "metadata": {},
     "output_type": "execute_result"
    }
   ],
   "source": [
    "df.isna().sum()"
   ]
  },
  {
   "cell_type": "code",
   "execution_count": 4,
   "id": "8d54e751-74c8-465f-9e8e-7aa446f10b1e",
   "metadata": {},
   "outputs": [],
   "source": [
    "df['A/G Ratio'].replace(np.nan, df['A/G Ratio'].mean(), inplace=True)"
   ]
  },
  {
   "cell_type": "code",
   "execution_count": 5,
   "id": "2893c60a-dd73-4129-af31-a4b350ef155c",
   "metadata": {},
   "outputs": [
    {
     "data": {
      "text/plain": [
       "Age          0\n",
       "Gender       0\n",
       "TB           0\n",
       "DB           0\n",
       "Alkphos      0\n",
       "Sgpt         0\n",
       "Sgot         0\n",
       "TP           0\n",
       "ALB          0\n",
       "A/G Ratio    0\n",
       "Selector     0\n",
       "dtype: int64"
      ]
     },
     "execution_count": 5,
     "metadata": {},
     "output_type": "execute_result"
    }
   ],
   "source": [
    "df.isna().sum()"
   ]
  },
  {
   "cell_type": "markdown",
   "id": "be6d44ae-ab1a-48ad-ac28-36d87d8fbe9f",
   "metadata": {},
   "source": [
    "#### 4.2 categorical to continous"
   ]
  },
  {
   "cell_type": "code",
   "execution_count": 11,
   "id": "f6707741-59f7-4444-b8b5-20b0ac170c8d",
   "metadata": {},
   "outputs": [
    {
     "data": {
      "text/plain": [
       "{'Male': 441, 'Female': 142}"
      ]
     },
     "execution_count": 11,
     "metadata": {},
     "output_type": "execute_result"
    }
   ],
   "source": [
    "df['Gender'].value_counts().to_dict()"
   ]
  },
  {
   "cell_type": "code",
   "execution_count": 6,
   "id": "43ef14fd-8732-440b-adba-89f85301abef",
   "metadata": {},
   "outputs": [
    {
     "data": {
      "text/html": [
       "<div>\n",
       "<style scoped>\n",
       "    .dataframe tbody tr th:only-of-type {\n",
       "        vertical-align: middle;\n",
       "    }\n",
       "\n",
       "    .dataframe tbody tr th {\n",
       "        vertical-align: top;\n",
       "    }\n",
       "\n",
       "    .dataframe thead th {\n",
       "        text-align: right;\n",
       "    }\n",
       "</style>\n",
       "<table border=\"1\" class=\"dataframe\">\n",
       "  <thead>\n",
       "    <tr style=\"text-align: right;\">\n",
       "      <th></th>\n",
       "      <th>Age</th>\n",
       "      <th>Gender</th>\n",
       "      <th>TB</th>\n",
       "      <th>DB</th>\n",
       "      <th>Alkphos</th>\n",
       "      <th>Sgpt</th>\n",
       "      <th>Sgot</th>\n",
       "      <th>TP</th>\n",
       "      <th>ALB</th>\n",
       "      <th>A/G Ratio</th>\n",
       "      <th>Selector</th>\n",
       "    </tr>\n",
       "  </thead>\n",
       "  <tbody>\n",
       "    <tr>\n",
       "      <th>0</th>\n",
       "      <td>65</td>\n",
       "      <td>0</td>\n",
       "      <td>0.7</td>\n",
       "      <td>0.1</td>\n",
       "      <td>187</td>\n",
       "      <td>16</td>\n",
       "      <td>18</td>\n",
       "      <td>6.8</td>\n",
       "      <td>3.3</td>\n",
       "      <td>0.90</td>\n",
       "      <td>1</td>\n",
       "    </tr>\n",
       "    <tr>\n",
       "      <th>1</th>\n",
       "      <td>62</td>\n",
       "      <td>1</td>\n",
       "      <td>10.9</td>\n",
       "      <td>5.5</td>\n",
       "      <td>699</td>\n",
       "      <td>64</td>\n",
       "      <td>100</td>\n",
       "      <td>7.5</td>\n",
       "      <td>3.2</td>\n",
       "      <td>0.74</td>\n",
       "      <td>1</td>\n",
       "    </tr>\n",
       "    <tr>\n",
       "      <th>2</th>\n",
       "      <td>62</td>\n",
       "      <td>1</td>\n",
       "      <td>7.3</td>\n",
       "      <td>4.1</td>\n",
       "      <td>490</td>\n",
       "      <td>60</td>\n",
       "      <td>68</td>\n",
       "      <td>7.0</td>\n",
       "      <td>3.3</td>\n",
       "      <td>0.89</td>\n",
       "      <td>1</td>\n",
       "    </tr>\n",
       "    <tr>\n",
       "      <th>3</th>\n",
       "      <td>58</td>\n",
       "      <td>1</td>\n",
       "      <td>1.0</td>\n",
       "      <td>0.4</td>\n",
       "      <td>182</td>\n",
       "      <td>14</td>\n",
       "      <td>20</td>\n",
       "      <td>6.8</td>\n",
       "      <td>3.4</td>\n",
       "      <td>1.00</td>\n",
       "      <td>1</td>\n",
       "    </tr>\n",
       "    <tr>\n",
       "      <th>4</th>\n",
       "      <td>72</td>\n",
       "      <td>1</td>\n",
       "      <td>3.9</td>\n",
       "      <td>2.0</td>\n",
       "      <td>195</td>\n",
       "      <td>27</td>\n",
       "      <td>59</td>\n",
       "      <td>7.3</td>\n",
       "      <td>2.4</td>\n",
       "      <td>0.40</td>\n",
       "      <td>1</td>\n",
       "    </tr>\n",
       "  </tbody>\n",
       "</table>\n",
       "</div>"
      ],
      "text/plain": [
       "   Age  Gender    TB   DB  Alkphos  Sgpt  Sgot   TP  ALB  A/G Ratio  Selector\n",
       "0   65       0   0.7  0.1      187    16    18  6.8  3.3       0.90         1\n",
       "1   62       1  10.9  5.5      699    64   100  7.5  3.2       0.74         1\n",
       "2   62       1   7.3  4.1      490    60    68  7.0  3.3       0.89         1\n",
       "3   58       1   1.0  0.4      182    14    20  6.8  3.4       1.00         1\n",
       "4   72       1   3.9  2.0      195    27    59  7.3  2.4       0.40         1"
      ]
     },
     "execution_count": 6,
     "metadata": {},
     "output_type": "execute_result"
    }
   ],
   "source": [
    "df.replace({'Male': 1, 'Female': 0},inplace=True)\n",
    "df.head()"
   ]
  },
  {
   "cell_type": "markdown",
   "id": "349255ec-d007-438c-afe6-8f2c2bf73406",
   "metadata": {},
   "source": [
    "#### 4.3 Outliers"
   ]
  },
  {
   "cell_type": "code",
   "execution_count": 13,
   "id": "5d77ea9a-1164-435c-aa8c-528788a1050b",
   "metadata": {},
   "outputs": [
    {
     "data": {
      "text/plain": [
       "<Axes: xlabel='Age'>"
      ]
     },
     "execution_count": 13,
     "metadata": {},
     "output_type": "execute_result"
    },
    {
     "data": {
      "image/png": "[encoded data removed]",
      "text/plain": [
       "<Figure size 640x480 with 1 Axes>"
      ]
     },
     "metadata": {},
     "output_type": "display_data"
    }
   ],
   "source": [
    "sns.boxplot(x=df['Age'])"
   ]
  },
  {
   "cell_type": "code",
   "execution_count": 14,
   "id": "ab01fee4-77c3-4f1d-a8ec-d532f382a69a",
   "metadata": {},
   "outputs": [
    {
     "data": {
      "text/plain": [
       "<Axes: xlabel='TB'>"
      ]
     },
     "execution_count": 14,
     "metadata": {},
     "output_type": "execute_result"
    },
    {
     "data": {
      "image/png": "[encoded data removed]",
      "text/plain": [
       "<Figure size 640x480 with 1 Axes>"
      ]
     },
     "metadata": {},
     "output_type": "display_data"
    }
   ],
   "source": [
    "sns.boxplot(x=df['TB'])"
   ]
  },
  {
   "cell_type": "code",
   "execution_count": 15,
   "id": "58b6bb20-3f4d-4e57-a61e-b7cf8811f2f3",
   "metadata": {},
   "outputs": [
    {
     "data": {
      "text/plain": [
       "<Axes: xlabel='DB'>"
      ]
     },
     "execution_count": 15,
     "metadata": {},
     "output_type": "execute_result"
    },
    {
     "data": {
      "image/png": "[encoded data removed]",
      "text/plain": [
       "<Figure size 640x480 with 1 Axes>"
      ]
     },
     "metadata": {},
     "output_type": "display_data"
    }
   ],
   "source": [
    "sns.boxplot(x=df['DB'])"
   ]
  },
  {
   "cell_type": "code",
   "execution_count": 16,
   "id": "d0446936-6e3e-4f86-883e-e34c024f867a",
   "metadata": {},
   "outputs": [
    {
     "data": {
      "text/plain": [
       "<Axes: xlabel='Alkphos'>"
      ]
     },
     "execution_count": 16,
     "metadata": {},
     "output_type": "execute_result"
    },
    {
     "data": {
      "image/png": "[encoded data removed]",
      "text/plain": [
       "<Figure size 640x480 with 1 Axes>"
      ]
     },
     "metadata": {},
     "output_type": "display_data"
    }
   ],
   "source": [
    "sns.boxplot(x=df['Alkphos'])"
   ]
  },
  {
   "cell_type": "code",
   "execution_count": 17,
   "id": "822ca5f3-ca39-4336-9af5-403f65e69c7f",
   "metadata": {},
   "outputs": [
    {
     "data": {
      "text/plain": [
       "<Axes: xlabel='Sgpt'>"
      ]
     },
     "execution_count": 17,
     "metadata": {},
     "output_type": "execute_result"
    },
    {
     "data": {
      "image/png": "[encoded data removed]",
      "text/plain": [
       "<Figure size 640x480 with 1 Axes>"
      ]
     },
     "metadata": {},
     "output_type": "display_data"
    }
   ],
   "source": [
    "sns.boxplot(x=df['Sgpt'])"
   ]
  },
  {
   "cell_type": "code",
   "execution_count": 18,
   "id": "a4b9d419-5dfd-4cbc-87b7-44fcae3dda98",
   "metadata": {},
   "outputs": [
    {
     "data": {
      "text/plain": [
       "<Axes: xlabel='Sgot'>"
      ]
     },
     "execution_count": 18,
     "metadata": {},
     "output_type": "execute_result"
    },
    {
     "data": {
      "image/png": "[encoded data removed]",
      "text/plain": [
       "<Figure size 640x480 with 1 Axes>"
      ]
     },
     "metadata": {},
     "output_type": "display_data"
    }
   ],
   "source": [
    "sns.boxplot(x=df['Sgot'])"
   ]
  },
  {
   "cell_type": "code",
   "execution_count": 19,
   "id": "d5d94f12-1cf7-489f-b086-8e45a9c7a9b6",
   "metadata": {},
   "outputs": [
    {
     "data": {
      "text/plain": [
       "<Axes: xlabel='TP'>"
      ]
     },
     "execution_count": 19,
     "metadata": {},
     "output_type": "execute_result"
    },
    {
     "data": {
      "image/png": "[encoded data removed]",
      "text/plain": [
       "<Figure size 640x480 with 1 Axes>"
      ]
     },
     "metadata": {},
     "output_type": "display_data"
    }
   ],
   "source": [
    "sns.boxplot(x=df['TP'])"
   ]
  },
  {
   "cell_type": "code",
   "execution_count": 20,
   "id": "5f3199a3-add9-4abb-bf1e-c0678f2f64d6",
   "metadata": {},
   "outputs": [
    {
     "data": {
      "text/plain": [
       "<Axes: xlabel='ALB'>"
      ]
     },
     "execution_count": 20,
     "metadata": {},
     "output_type": "execute_result"
    },
    {
     "data": {
      "image/png": "[encoded data removed]",
      "text/plain": [
       "<Figure size 640x480 with 1 Axes>"
      ]
     },
     "metadata": {},
     "output_type": "display_data"
    }
   ],
   "source": [
    "sns.boxplot(x=df['ALB'])"
   ]
  },
  {
   "cell_type": "code",
   "execution_count": 27,
   "id": "69dadf43-7410-4d8a-a29a-f20d5f576484",
   "metadata": {},
   "outputs": [
    {
     "data": {
      "text/plain": [
       "<Axes: xlabel='TP'>"
      ]
     },
     "execution_count": 27,
     "metadata": {},
     "output_type": "execute_result"
    },
    {
     "data": {
      "image/png": "[encoded data removed]",
      "text/plain": [
       "<Figure size 640x480 with 1 Axes>"
      ]
     },
     "metadata": {},
     "output_type": "display_data"
    }
   ],
   "source": [
    "sns.boxplot(x=np.cbrt(df['TP']))"
   ]
  },
  {
   "cell_type": "code",
   "execution_count": 28,
   "id": "30f36481-5f0e-4d67-b26a-2156ab29db54",
   "metadata": {},
   "outputs": [
    {
     "data": {
      "text/plain": [
       "Index(['Age', 'Gender', 'TB', 'DB', 'Alkphos', 'Sgpt', 'Sgot', 'TP', 'ALB',\n",
       "       'A/G Ratio', 'Selector'],\n",
       "      dtype='object')"
      ]
     },
     "execution_count": 28,
     "metadata": {},
     "output_type": "execute_result"
    }
   ],
   "source": [
    "df.columns"
   ]
  },
  {
   "cell_type": "code",
   "execution_count": 29,
   "id": "c618bfcb-2fc3-473d-aa54-64450ccff46a",
   "metadata": {},
   "outputs": [],
   "source": [
    "from sklearn.preprocessing import PowerTransformer"
   ]
  },
  {
   "cell_type": "code",
   "execution_count": 30,
   "id": "6a244b31-caa6-4345-bd67-9fc9c0c12291",
   "metadata": {},
   "outputs": [],
   "source": [
    "power_trans = PowerTransformer(method='box-cox', standardize=False)\n",
    "df['TB'] = power_trans.fit_transform(df[['TB']])[:,0]"
   ]
  },
  {
   "cell_type": "code",
   "execution_count": 31,
   "id": "b0183014-1229-4c15-80c2-b86c36315eb1",
   "metadata": {},
   "outputs": [],
   "source": [
    "df['DB'] = power_trans.fit_transform(df[['DB']])[:,0]"
   ]
  },
  {
   "cell_type": "code",
   "execution_count": 32,
   "id": "58c5d7c0-6d4a-46a5-837e-d3dcd4f8b91e",
   "metadata": {},
   "outputs": [],
   "source": [
    "df['Alkphos'] = power_trans.fit_transform(df[['Alkphos']])[:,0]"
   ]
  },
  {
   "cell_type": "code",
   "execution_count": 33,
   "id": "1a7d9c66-26e6-4ff0-901b-19258b7a8125",
   "metadata": {},
   "outputs": [],
   "source": [
    "df['Sgpt'] = power_trans.fit_transform(df[['Sgpt']])[:,0]"
   ]
  },
  {
   "cell_type": "code",
   "execution_count": 34,
   "id": "079772eb-7840-4a5c-bc65-aa4580858282",
   "metadata": {},
   "outputs": [],
   "source": [
    "df['Sgot'] = power_trans.fit_transform(df[['Sgot']])[:,0]"
   ]
  },
  {
   "cell_type": "code",
   "execution_count": 35,
   "id": "ad6e09fc-fb0f-4ae4-96b2-778f54c2bc91",
   "metadata": {},
   "outputs": [],
   "source": [
    "df['TP'] = power_trans.fit_transform(df[['TP']])[:,0]"
   ]
  },
  {
   "cell_type": "code",
   "execution_count": 36,
   "id": "a6dd4f2c-cab3-4d10-bcf9-87b4ed824262",
   "metadata": {},
   "outputs": [],
   "source": [
    "df['A/G Ratio'] = power_trans.fit_transform(df[['A/G Ratio']])[:,0]"
   ]
  },
  {
   "cell_type": "code",
   "execution_count": null,
   "id": "a1942a7c-2451-4339-84f4-e0b5acbde198",
   "metadata": {},
   "outputs": [],
   "source": [
    "Outliers removed"
   ]
  },
  {
   "cell_type": "markdown",
   "id": "8cd7071f-59db-46ed-9c4c-0198db74acd5",
   "metadata": {},
   "source": [
    "### 5. Model Training"
   ]
  },
  {
   "cell_type": "code",
   "execution_count": 7,
   "id": "0aa56a3c-e728-495e-9c7f-2ad1918c1a73",
   "metadata": {},
   "outputs": [],
   "source": [
    "x = df.drop('Selector',axis=1)\n",
    "y = df['Selector']\n",
    "x_train_act,x_test_act,y_train_act,y_test_act = train_test_split(x,y,test_size=0.3,stratify=y, random_state=1)"
   ]
  },
  {
   "cell_type": "code",
   "execution_count": 8,
   "id": "ad29cd54-920c-48c8-ac44-f87f418415f4",
   "metadata": {},
   "outputs": [
    {
     "data": {
      "text/html": [
       "<style>#sk-container-id-1 {color: black;}#sk-container-id-1 pre{padding: 0;}#sk-container-id-1 div.sk-toggleable {background-color: white;}#sk-container-id-1 label.sk-toggleable__label {cursor: pointer;display: block;width: 100%;margin-bottom: 0;padding: 0.3em;box-sizing: border-box;text-align: center;}#sk-container-id-1 label.sk-toggleable__label-arrow:before {content: \"▸\";float: left;margin-right: 0.25em;color: #696969;}#sk-container-id-1 label.sk-toggleable__label-arrow:hover:before {color: black;}#sk-container-id-1 div.sk-estimator:hover label.sk-toggleable__label-arrow:before {color: black;}#sk-container-id-1 div.sk-toggleable__content {max-height: 0;max-width: 0;overflow: hidden;text-align: left;background-color: #f0f8ff;}#sk-container-id-1 div.sk-toggleable__content pre {margin: 0.2em;color: black;border-radius: 0.25em;background-color: #f0f8ff;}#sk-container-id-1 input.sk-toggleable__control:checked~div.sk-toggleable__content {max-height: 200px;max-width: 100%;overflow: auto;}#sk-container-id-1 input.sk-toggleable__control:checked~label.sk-toggleable__label-arrow:before {content: \"▾\";}#sk-container-id-1 div.sk-estimator input.sk-toggleable__control:checked~label.sk-toggleable__label {background-color: #d4ebff;}#sk-container-id-1 div.sk-label input.sk-toggleable__control:checked~label.sk-toggleable__label {background-color: #d4ebff;}#sk-container-id-1 input.sk-hidden--visually {border: 0;clip: rect(1px 1px 1px 1px);clip: rect(1px, 1px, 1px, 1px);height: 1px;margin: -1px;overflow: hidden;padding: 0;position: absolute;width: 1px;}#sk-container-id-1 div.sk-estimator {font-family: monospace;background-color: #f0f8ff;border: 1px dotted black;border-radius: 0.25em;box-sizing: border-box;margin-bottom: 0.5em;}#sk-container-id-1 div.sk-estimator:hover {background-color: #d4ebff;}#sk-container-id-1 div.sk-parallel-item::after {content: \"\";width: 100%;border-bottom: 1px solid gray;flex-grow: 1;}#sk-container-id-1 div.sk-label:hover label.sk-toggleable__label {background-color: #d4ebff;}#sk-container-id-1 div.sk-serial::before {content: \"\";position: absolute;border-left: 1px solid gray;box-sizing: border-box;top: 0;bottom: 0;left: 50%;z-index: 0;}#sk-container-id-1 div.sk-serial {display: flex;flex-direction: column;align-items: center;background-color: white;padding-right: 0.2em;padding-left: 0.2em;position: relative;}#sk-container-id-1 div.sk-item {position: relative;z-index: 1;}#sk-container-id-1 div.sk-parallel {display: flex;align-items: stretch;justify-content: center;background-color: white;position: relative;}#sk-container-id-1 div.sk-item::before, #sk-container-id-1 div.sk-parallel-item::before {content: \"\";position: absolute;border-left: 1px solid gray;box-sizing: border-box;top: 0;bottom: 0;left: 50%;z-index: -1;}#sk-container-id-1 div.sk-parallel-item {display: flex;flex-direction: column;z-index: 1;position: relative;background-color: white;}#sk-container-id-1 div.sk-parallel-item:first-child::after {align-self: flex-end;width: 50%;}#sk-container-id-1 div.sk-parallel-item:last-child::after {align-self: flex-start;width: 50%;}#sk-container-id-1 div.sk-parallel-item:only-child::after {width: 0;}#sk-container-id-1 div.sk-dashed-wrapped {border: 1px dashed gray;margin: 0 0.4em 0.5em 0.4em;box-sizing: border-box;padding-bottom: 0.4em;background-color: white;}#sk-container-id-1 div.sk-label label {font-family: monospace;font-weight: bold;display: inline-block;line-height: 1.2em;}#sk-container-id-1 div.sk-label-container {text-align: center;}#sk-container-id-1 div.sk-container {/* jupyter's `normalize.less` sets `[hidden] { display: none; }` but bootstrap.min.css set `[hidden] { display: none !important; }` so we also need the `!important` here to be able to override the default hidden behavior on the sphinx rendered scikit-learn.org. See: https://github.com/scikit-learn/scikit-learn/issues/21755 */display: inline-block !important;position: relative;}#sk-container-id-1 div.sk-text-repr-fallback {display: none;}</style><div id=\"sk-container-id-1\" class=\"sk-top-container\"><div class=\"sk-text-repr-fallback\"><pre>DecisionTreeClassifier(min_samples_split=6)</pre><b>In a Jupyter environment, please rerun this cell to show the HTML representation or trust the notebook. <br />On GitHub, the HTML representation is unable to render, please try loading this page with nbviewer.org.</b></div><div class=\"sk-container\" hidden><div class=\"sk-item\"><div class=\"sk-estimator sk-toggleable\"><input class=\"sk-toggleable__control sk-hidden--visually\" id=\"sk-estimator-id-1\" type=\"checkbox\" checked><label for=\"sk-estimator-id-1\" class=\"sk-toggleable__label sk-toggleable__label-arrow\">DecisionTreeClassifier</label><div class=\"sk-toggleable__content\"><pre>DecisionTreeClassifier(min_samples_split=6)</pre></div></div></div></div></div>"
      ],
      "text/plain": [
       "DecisionTreeClassifier(min_samples_split=6)"
      ]
     },
     "execution_count": 8,
     "metadata": {},
     "output_type": "execute_result"
    }
   ],
   "source": [
    "dt_clf = DecisionTreeClassifier(min_samples_split=6)\n",
    "dt_clf.fit(x_train_act,y_train_act)"
   ]
  },
  {
   "cell_type": "code",
   "execution_count": null,
   "id": "c205416e-6976-4b01-a7e2-b2f90662327a",
   "metadata": {},
   "outputs": [],
   "source": []
  },
  {
   "cell_type": "markdown",
   "id": "d44549ac-4885-4bd6-94ac-952129ac79ee",
   "metadata": {},
   "source": [
    "### 6. Model Evaluation"
   ]
  },
  {
   "cell_type": "code",
   "execution_count": 39,
   "id": "068745fd-98f1-4015-aa44-1f37ef4df464",
   "metadata": {},
   "outputs": [
    {
     "name": "stdout",
     "output_type": "stream",
     "text": [
      "train accuracy: 0.946078431372549\n",
      "test accuracy: 0.7028571428571428\n"
     ]
    }
   ],
   "source": [
    "y_train_pred = dt_clf.predict(x_train_act)\n",
    "y_test_pred = dt_clf.predict(x_test_act)\n",
    "\n",
    "train_acc = accuracy_score(y_train_pred,y_train_act)\n",
    "test_acc = accuracy_score(y_test_pred,y_test_act)\n",
    "print(\"train accuracy:\",train_acc)\n",
    "print(\"test accuracy:\",test_acc)"
   ]
  },
  {
   "cell_type": "code",
   "execution_count": 40,
   "id": "4f38bf8a-77e0-4df6-9258-c1f2d4793cb2",
   "metadata": {},
   "outputs": [
    {
     "name": "stdout",
     "output_type": "stream",
     "text": [
      "Confusion Matrix:\n",
      " [[282  13]\n",
      " [  9 104]]\n",
      "\n",
      "Accuracy : 0.946078431372549\n",
      "\n",
      "Classification report :\n",
      "               precision    recall  f1-score   support\n",
      "\n",
      "           1       0.97      0.96      0.96       295\n",
      "           2       0.89      0.92      0.90       113\n",
      "\n",
      "    accuracy                           0.95       408\n",
      "   macro avg       0.93      0.94      0.93       408\n",
      "weighted avg       0.95      0.95      0.95       408\n",
      "\n"
     ]
    }
   ],
   "source": [
    "#train eval\n",
    "y_train_pred = dt_clf.predict(x_train_act)\n",
    "cnf_matrix = confusion_matrix(y_train_pred,y_train_act)\n",
    "accuracy = accuracy_score(y_train_pred,y_train_act)\n",
    "clf_report = classification_report(y_train_pred,y_train_act)\n",
    "print(\"Confusion Matrix:\\n\",cnf_matrix,end='\\n\\n')\n",
    "print(\"Accuracy :\",accuracy,end='\\n\\n')\n",
    "print('Classification report :\\n',clf_report)"
   ]
  },
  {
   "cell_type": "code",
   "execution_count": 41,
   "id": "a52d6de7-40f6-4221-8805-0d14147a7a3f",
   "metadata": {},
   "outputs": [
    {
     "name": "stdout",
     "output_type": "stream",
     "text": [
      "Confusion Matrix:\n",
      " [[100  27]\n",
      " [ 25  23]]\n",
      "\n",
      "Accuracy : 0.7028571428571428\n",
      "\n",
      "Classification report :\n",
      "               precision    recall  f1-score   support\n",
      "\n",
      "           1       0.80      0.79      0.79       127\n",
      "           2       0.46      0.48      0.47        48\n",
      "\n",
      "    accuracy                           0.70       175\n",
      "   macro avg       0.63      0.63      0.63       175\n",
      "weighted avg       0.71      0.70      0.70       175\n",
      "\n"
     ]
    }
   ],
   "source": [
    "#test eval\n",
    "y_test_pred = dt_clf.predict(x_test_act)\n",
    "cnf_matrix = confusion_matrix(y_test_pred,y_test_act)\n",
    "accuracy = accuracy_score(y_test_pred,y_test_act)\n",
    "clf_report = classification_report(y_test_pred,y_test_act)\n",
    "print(\"Confusion Matrix:\\n\",cnf_matrix,end='\\n\\n')\n",
    "print(\"Accuracy :\",accuracy,end='\\n\\n')\n",
    "print('Classification report :\\n',clf_report)"
   ]
  },
  {
   "cell_type": "markdown",
   "id": "b420ab1b-d7c0-4c18-87a3-21335bd647d6",
   "metadata": {},
   "source": [
    "### 7. feature selection"
   ]
  },
  {
   "cell_type": "code",
   "execution_count": 42,
   "id": "11d98132-ffb2-495a-89d8-fafef0ea70dd",
   "metadata": {},
   "outputs": [
    {
     "data": {
      "text/plain": [
       "array([0.15996818, 0.01518458, 0.05180034, 0.06860686, 0.15393439,\n",
       "       0.31547966, 0.05720615, 0.05880618, 0.04812716, 0.0708865 ])"
      ]
     },
     "execution_count": 42,
     "metadata": {},
     "output_type": "execute_result"
    }
   ],
   "source": [
    "dt_clf.feature_importances_"
   ]
  },
  {
   "cell_type": "markdown",
   "id": "8e65b16b-c23a-491a-b981-3ee71fda4637",
   "metadata": {},
   "source": [
    "### 8. Hyperparameter Tuning"
   ]
  },
  {
   "cell_type": "code",
   "execution_count": 46,
   "id": "6fb65702-b7e3-4a41-ad23-2c4429a4b490",
   "metadata": {},
   "outputs": [
    {
     "data": {
      "text/html": [
       "<style>#sk-container-id-4 {color: black;}#sk-container-id-4 pre{padding: 0;}#sk-container-id-4 div.sk-toggleable {background-color: white;}#sk-container-id-4 label.sk-toggleable__label {cursor: pointer;display: block;width: 100%;margin-bottom: 0;padding: 0.3em;box-sizing: border-box;text-align: center;}#sk-container-id-4 label.sk-toggleable__label-arrow:before {content: \"▸\";float: left;margin-right: 0.25em;color: #696969;}#sk-container-id-4 label.sk-toggleable__label-arrow:hover:before {color: black;}#sk-container-id-4 div.sk-estimator:hover label.sk-toggleable__label-arrow:before {color: black;}#sk-container-id-4 div.sk-toggleable__content {max-height: 0;max-width: 0;overflow: hidden;text-align: left;background-color: #f0f8ff;}#sk-container-id-4 div.sk-toggleable__content pre {margin: 0.2em;color: black;border-radius: 0.25em;background-color: #f0f8ff;}#sk-container-id-4 input.sk-toggleable__control:checked~div.sk-toggleable__content {max-height: 200px;max-width: 100%;overflow: auto;}#sk-container-id-4 input.sk-toggleable__control:checked~label.sk-toggleable__label-arrow:before {content: \"▾\";}#sk-container-id-4 div.sk-estimator input.sk-toggleable__control:checked~label.sk-toggleable__label {background-color: #d4ebff;}#sk-container-id-4 div.sk-label input.sk-toggleable__control:checked~label.sk-toggleable__label {background-color: #d4ebff;}#sk-container-id-4 input.sk-hidden--visually {border: 0;clip: rect(1px 1px 1px 1px);clip: rect(1px, 1px, 1px, 1px);height: 1px;margin: -1px;overflow: hidden;padding: 0;position: absolute;width: 1px;}#sk-container-id-4 div.sk-estimator {font-family: monospace;background-color: #f0f8ff;border: 1px dotted black;border-radius: 0.25em;box-sizing: border-box;margin-bottom: 0.5em;}#sk-container-id-4 div.sk-estimator:hover {background-color: #d4ebff;}#sk-container-id-4 div.sk-parallel-item::after {content: \"\";width: 100%;border-bottom: 1px solid gray;flex-grow: 1;}#sk-container-id-4 div.sk-label:hover label.sk-toggleable__label {background-color: #d4ebff;}#sk-container-id-4 div.sk-serial::before {content: \"\";position: absolute;border-left: 1px solid gray;box-sizing: border-box;top: 0;bottom: 0;left: 50%;z-index: 0;}#sk-container-id-4 div.sk-serial {display: flex;flex-direction: column;align-items: center;background-color: white;padding-right: 0.2em;padding-left: 0.2em;position: relative;}#sk-container-id-4 div.sk-item {position: relative;z-index: 1;}#sk-container-id-4 div.sk-parallel {display: flex;align-items: stretch;justify-content: center;background-color: white;position: relative;}#sk-container-id-4 div.sk-item::before, #sk-container-id-4 div.sk-parallel-item::before {content: \"\";position: absolute;border-left: 1px solid gray;box-sizing: border-box;top: 0;bottom: 0;left: 50%;z-index: -1;}#sk-container-id-4 div.sk-parallel-item {display: flex;flex-direction: column;z-index: 1;position: relative;background-color: white;}#sk-container-id-4 div.sk-parallel-item:first-child::after {align-self: flex-end;width: 50%;}#sk-container-id-4 div.sk-parallel-item:last-child::after {align-self: flex-start;width: 50%;}#sk-container-id-4 div.sk-parallel-item:only-child::after {width: 0;}#sk-container-id-4 div.sk-dashed-wrapped {border: 1px dashed gray;margin: 0 0.4em 0.5em 0.4em;box-sizing: border-box;padding-bottom: 0.4em;background-color: white;}#sk-container-id-4 div.sk-label label {font-family: monospace;font-weight: bold;display: inline-block;line-height: 1.2em;}#sk-container-id-4 div.sk-label-container {text-align: center;}#sk-container-id-4 div.sk-container {/* jupyter's `normalize.less` sets `[hidden] { display: none; }` but bootstrap.min.css set `[hidden] { display: none !important; }` so we also need the `!important` here to be able to override the default hidden behavior on the sphinx rendered scikit-learn.org. See: https://github.com/scikit-learn/scikit-learn/issues/21755 */display: inline-block !important;position: relative;}#sk-container-id-4 div.sk-text-repr-fallback {display: none;}</style><div id=\"sk-container-id-4\" class=\"sk-top-container\"><div class=\"sk-text-repr-fallback\"><pre>GridSearchCV(cv=7, estimator=DecisionTreeClassifier(random_state=2), n_jobs=-1,\n",
       "             param_grid={&#x27;criterion&#x27;: [&#x27;gini&#x27;, &#x27;entropy&#x27;],\n",
       "                         &#x27;max_depth&#x27;: array([3, 4, 5, 6, 7, 8, 9]),\n",
       "                         &#x27;min_samples_leaf&#x27;: range(3, 15),\n",
       "                         &#x27;min_samples_split&#x27;: range(5, 12)})</pre><b>In a Jupyter environment, please rerun this cell to show the HTML representation or trust the notebook. <br />On GitHub, the HTML representation is unable to render, please try loading this page with nbviewer.org.</b></div><div class=\"sk-container\" hidden><div class=\"sk-item sk-dashed-wrapped\"><div class=\"sk-label-container\"><div class=\"sk-label sk-toggleable\"><input class=\"sk-toggleable__control sk-hidden--visually\" id=\"sk-estimator-id-6\" type=\"checkbox\" ><label for=\"sk-estimator-id-6\" class=\"sk-toggleable__label sk-toggleable__label-arrow\">GridSearchCV</label><div class=\"sk-toggleable__content\"><pre>GridSearchCV(cv=7, estimator=DecisionTreeClassifier(random_state=2), n_jobs=-1,\n",
       "             param_grid={&#x27;criterion&#x27;: [&#x27;gini&#x27;, &#x27;entropy&#x27;],\n",
       "                         &#x27;max_depth&#x27;: array([3, 4, 5, 6, 7, 8, 9]),\n",
       "                         &#x27;min_samples_leaf&#x27;: range(3, 15),\n",
       "                         &#x27;min_samples_split&#x27;: range(5, 12)})</pre></div></div></div><div class=\"sk-parallel\"><div class=\"sk-parallel-item\"><div class=\"sk-item\"><div class=\"sk-label-container\"><div class=\"sk-label sk-toggleable\"><input class=\"sk-toggleable__control sk-hidden--visually\" id=\"sk-estimator-id-7\" type=\"checkbox\" ><label for=\"sk-estimator-id-7\" class=\"sk-toggleable__label sk-toggleable__label-arrow\">estimator: DecisionTreeClassifier</label><div class=\"sk-toggleable__content\"><pre>DecisionTreeClassifier(random_state=2)</pre></div></div></div><div class=\"sk-serial\"><div class=\"sk-item\"><div class=\"sk-estimator sk-toggleable\"><input class=\"sk-toggleable__control sk-hidden--visually\" id=\"sk-estimator-id-8\" type=\"checkbox\" ><label for=\"sk-estimator-id-8\" class=\"sk-toggleable__label sk-toggleable__label-arrow\">DecisionTreeClassifier</label><div class=\"sk-toggleable__content\"><pre>DecisionTreeClassifier(random_state=2)</pre></div></div></div></div></div></div></div></div></div></div>"
      ],
      "text/plain": [
       "GridSearchCV(cv=7, estimator=DecisionTreeClassifier(random_state=2), n_jobs=-1,\n",
       "             param_grid={'criterion': ['gini', 'entropy'],\n",
       "                         'max_depth': array([3, 4, 5, 6, 7, 8, 9]),\n",
       "                         'min_samples_leaf': range(3, 15),\n",
       "                         'min_samples_split': range(5, 12)})"
      ]
     },
     "execution_count": 46,
     "metadata": {},
     "output_type": "execute_result"
    }
   ],
   "source": [
    "dt_model = DecisionTreeClassifier(random_state=2)\n",
    "\n",
    "hyp_grid = {\n",
    "            \"criterion\" :['gini','entropy'],\n",
    "            \"max_depth\" : np.arange(3,10),\n",
    "            \"min_samples_split\" : range(5,12),\n",
    "            \"min_samples_leaf\" : range(3,15)}\n",
    "\n",
    "gscv_dt_model = GridSearchCV(dt_model, param_grid = hyp_grid, cv=7, n_jobs=-1)\n",
    "gscv_dt_model.fit(x_train_act, y_train_act)   "
   ]
  },
  {
   "cell_type": "code",
   "execution_count": 48,
   "id": "0a67c356-27a8-45af-8925-70218309584c",
   "metadata": {},
   "outputs": [
    {
     "data": {
      "text/html": [
       "<style>#sk-container-id-5 {color: black;}#sk-container-id-5 pre{padding: 0;}#sk-container-id-5 div.sk-toggleable {background-color: white;}#sk-container-id-5 label.sk-toggleable__label {cursor: pointer;display: block;width: 100%;margin-bottom: 0;padding: 0.3em;box-sizing: border-box;text-align: center;}#sk-container-id-5 label.sk-toggleable__label-arrow:before {content: \"▸\";float: left;margin-right: 0.25em;color: #696969;}#sk-container-id-5 label.sk-toggleable__label-arrow:hover:before {color: black;}#sk-container-id-5 div.sk-estimator:hover label.sk-toggleable__label-arrow:before {color: black;}#sk-container-id-5 div.sk-toggleable__content {max-height: 0;max-width: 0;overflow: hidden;text-align: left;background-color: #f0f8ff;}#sk-container-id-5 div.sk-toggleable__content pre {margin: 0.2em;color: black;border-radius: 0.25em;background-color: #f0f8ff;}#sk-container-id-5 input.sk-toggleable__control:checked~div.sk-toggleable__content {max-height: 200px;max-width: 100%;overflow: auto;}#sk-container-id-5 input.sk-toggleable__control:checked~label.sk-toggleable__label-arrow:before {content: \"▾\";}#sk-container-id-5 div.sk-estimator input.sk-toggleable__control:checked~label.sk-toggleable__label {background-color: #d4ebff;}#sk-container-id-5 div.sk-label input.sk-toggleable__control:checked~label.sk-toggleable__label {background-color: #d4ebff;}#sk-container-id-5 input.sk-hidden--visually {border: 0;clip: rect(1px 1px 1px 1px);clip: rect(1px, 1px, 1px, 1px);height: 1px;margin: -1px;overflow: hidden;padding: 0;position: absolute;width: 1px;}#sk-container-id-5 div.sk-estimator {font-family: monospace;background-color: #f0f8ff;border: 1px dotted black;border-radius: 0.25em;box-sizing: border-box;margin-bottom: 0.5em;}#sk-container-id-5 div.sk-estimator:hover {background-color: #d4ebff;}#sk-container-id-5 div.sk-parallel-item::after {content: \"\";width: 100%;border-bottom: 1px solid gray;flex-grow: 1;}#sk-container-id-5 div.sk-label:hover label.sk-toggleable__label {background-color: #d4ebff;}#sk-container-id-5 div.sk-serial::before {content: \"\";position: absolute;border-left: 1px solid gray;box-sizing: border-box;top: 0;bottom: 0;left: 50%;z-index: 0;}#sk-container-id-5 div.sk-serial {display: flex;flex-direction: column;align-items: center;background-color: white;padding-right: 0.2em;padding-left: 0.2em;position: relative;}#sk-container-id-5 div.sk-item {position: relative;z-index: 1;}#sk-container-id-5 div.sk-parallel {display: flex;align-items: stretch;justify-content: center;background-color: white;position: relative;}#sk-container-id-5 div.sk-item::before, #sk-container-id-5 div.sk-parallel-item::before {content: \"\";position: absolute;border-left: 1px solid gray;box-sizing: border-box;top: 0;bottom: 0;left: 50%;z-index: -1;}#sk-container-id-5 div.sk-parallel-item {display: flex;flex-direction: column;z-index: 1;position: relative;background-color: white;}#sk-container-id-5 div.sk-parallel-item:first-child::after {align-self: flex-end;width: 50%;}#sk-container-id-5 div.sk-parallel-item:last-child::after {align-self: flex-start;width: 50%;}#sk-container-id-5 div.sk-parallel-item:only-child::after {width: 0;}#sk-container-id-5 div.sk-dashed-wrapped {border: 1px dashed gray;margin: 0 0.4em 0.5em 0.4em;box-sizing: border-box;padding-bottom: 0.4em;background-color: white;}#sk-container-id-5 div.sk-label label {font-family: monospace;font-weight: bold;display: inline-block;line-height: 1.2em;}#sk-container-id-5 div.sk-label-container {text-align: center;}#sk-container-id-5 div.sk-container {/* jupyter's `normalize.less` sets `[hidden] { display: none; }` but bootstrap.min.css set `[hidden] { display: none !important; }` so we also need the `!important` here to be able to override the default hidden behavior on the sphinx rendered scikit-learn.org. See: https://github.com/scikit-learn/scikit-learn/issues/21755 */display: inline-block !important;position: relative;}#sk-container-id-5 div.sk-text-repr-fallback {display: none;}</style><div id=\"sk-container-id-5\" class=\"sk-top-container\"><div class=\"sk-text-repr-fallback\"><pre>DecisionTreeClassifier(max_depth=5, min_samples_leaf=10, min_samples_split=5,\n",
       "                       random_state=2)</pre><b>In a Jupyter environment, please rerun this cell to show the HTML representation or trust the notebook. <br />On GitHub, the HTML representation is unable to render, please try loading this page with nbviewer.org.</b></div><div class=\"sk-container\" hidden><div class=\"sk-item\"><div class=\"sk-estimator sk-toggleable\"><input class=\"sk-toggleable__control sk-hidden--visually\" id=\"sk-estimator-id-9\" type=\"checkbox\" checked><label for=\"sk-estimator-id-9\" class=\"sk-toggleable__label sk-toggleable__label-arrow\">DecisionTreeClassifier</label><div class=\"sk-toggleable__content\"><pre>DecisionTreeClassifier(max_depth=5, min_samples_leaf=10, min_samples_split=5,\n",
       "                       random_state=2)</pre></div></div></div></div></div>"
      ],
      "text/plain": [
       "DecisionTreeClassifier(max_depth=5, min_samples_leaf=10, min_samples_split=5,\n",
       "                       random_state=2)"
      ]
     },
     "execution_count": 48,
     "metadata": {},
     "output_type": "execute_result"
    }
   ],
   "source": [
    "gscv_dt_model.best_estimator_"
   ]
  },
  {
   "cell_type": "code",
   "execution_count": 49,
   "id": "2c974454-6648-44b0-85fe-c5bdf7619c6e",
   "metadata": {},
   "outputs": [
    {
     "name": "stdout",
     "output_type": "stream",
     "text": [
      "train: 0.7720588235294118\n",
      "test: 0.64\n"
     ]
    }
   ],
   "source": [
    "dt_clf = gscv_dt_model.best_estimator_\n",
    "dt_clf.fit(x_train_act,y_train_act)\n",
    "print(\"train:\",dt_clf.score(x_train_act,y_train_act))\n",
    "print(\"test:\",dt_clf.score(x_test_act,y_test_act))"
   ]
  },
  {
   "cell_type": "markdown",
   "id": "3e145667-8b47-4b63-a2d8-96fc26c252f1",
   "metadata": {},
   "source": [
    "## B. knn"
   ]
  },
  {
   "cell_type": "markdown",
   "id": "f02398f3-7f95-403f-998f-74f5ca73bc93",
   "metadata": {},
   "source": [
    "#### B.1 without standardization"
   ]
  },
  {
   "cell_type": "markdown",
   "id": "dbebb7d0-047d-4f5d-96b4-a4cbdea2a2a9",
   "metadata": {},
   "source": [
    "#### 1. Model Training"
   ]
  },
  {
   "cell_type": "code",
   "execution_count": 56,
   "id": "0ec9bf42-9172-4ba2-bbb3-917233799910",
   "metadata": {},
   "outputs": [
    {
     "data": {
      "text/html": [
       "<style>#sk-container-id-8 {color: black;}#sk-container-id-8 pre{padding: 0;}#sk-container-id-8 div.sk-toggleable {background-color: white;}#sk-container-id-8 label.sk-toggleable__label {cursor: pointer;display: block;width: 100%;margin-bottom: 0;padding: 0.3em;box-sizing: border-box;text-align: center;}#sk-container-id-8 label.sk-toggleable__label-arrow:before {content: \"▸\";float: left;margin-right: 0.25em;color: #696969;}#sk-container-id-8 label.sk-toggleable__label-arrow:hover:before {color: black;}#sk-container-id-8 div.sk-estimator:hover label.sk-toggleable__label-arrow:before {color: black;}#sk-container-id-8 div.sk-toggleable__content {max-height: 0;max-width: 0;overflow: hidden;text-align: left;background-color: #f0f8ff;}#sk-container-id-8 div.sk-toggleable__content pre {margin: 0.2em;color: black;border-radius: 0.25em;background-color: #f0f8ff;}#sk-container-id-8 input.sk-toggleable__control:checked~div.sk-toggleable__content {max-height: 200px;max-width: 100%;overflow: auto;}#sk-container-id-8 input.sk-toggleable__control:checked~label.sk-toggleable__label-arrow:before {content: \"▾\";}#sk-container-id-8 div.sk-estimator input.sk-toggleable__control:checked~label.sk-toggleable__label {background-color: #d4ebff;}#sk-container-id-8 div.sk-label input.sk-toggleable__control:checked~label.sk-toggleable__label {background-color: #d4ebff;}#sk-container-id-8 input.sk-hidden--visually {border: 0;clip: rect(1px 1px 1px 1px);clip: rect(1px, 1px, 1px, 1px);height: 1px;margin: -1px;overflow: hidden;padding: 0;position: absolute;width: 1px;}#sk-container-id-8 div.sk-estimator {font-family: monospace;background-color: #f0f8ff;border: 1px dotted black;border-radius: 0.25em;box-sizing: border-box;margin-bottom: 0.5em;}#sk-container-id-8 div.sk-estimator:hover {background-color: #d4ebff;}#sk-container-id-8 div.sk-parallel-item::after {content: \"\";width: 100%;border-bottom: 1px solid gray;flex-grow: 1;}#sk-container-id-8 div.sk-label:hover label.sk-toggleable__label {background-color: #d4ebff;}#sk-container-id-8 div.sk-serial::before {content: \"\";position: absolute;border-left: 1px solid gray;box-sizing: border-box;top: 0;bottom: 0;left: 50%;z-index: 0;}#sk-container-id-8 div.sk-serial {display: flex;flex-direction: column;align-items: center;background-color: white;padding-right: 0.2em;padding-left: 0.2em;position: relative;}#sk-container-id-8 div.sk-item {position: relative;z-index: 1;}#sk-container-id-8 div.sk-parallel {display: flex;align-items: stretch;justify-content: center;background-color: white;position: relative;}#sk-container-id-8 div.sk-item::before, #sk-container-id-8 div.sk-parallel-item::before {content: \"\";position: absolute;border-left: 1px solid gray;box-sizing: border-box;top: 0;bottom: 0;left: 50%;z-index: -1;}#sk-container-id-8 div.sk-parallel-item {display: flex;flex-direction: column;z-index: 1;position: relative;background-color: white;}#sk-container-id-8 div.sk-parallel-item:first-child::after {align-self: flex-end;width: 50%;}#sk-container-id-8 div.sk-parallel-item:last-child::after {align-self: flex-start;width: 50%;}#sk-container-id-8 div.sk-parallel-item:only-child::after {width: 0;}#sk-container-id-8 div.sk-dashed-wrapped {border: 1px dashed gray;margin: 0 0.4em 0.5em 0.4em;box-sizing: border-box;padding-bottom: 0.4em;background-color: white;}#sk-container-id-8 div.sk-label label {font-family: monospace;font-weight: bold;display: inline-block;line-height: 1.2em;}#sk-container-id-8 div.sk-label-container {text-align: center;}#sk-container-id-8 div.sk-container {/* jupyter's `normalize.less` sets `[hidden] { display: none; }` but bootstrap.min.css set `[hidden] { display: none !important; }` so we also need the `!important` here to be able to override the default hidden behavior on the sphinx rendered scikit-learn.org. See: https://github.com/scikit-learn/scikit-learn/issues/21755 */display: inline-block !important;position: relative;}#sk-container-id-8 div.sk-text-repr-fallback {display: none;}</style><div id=\"sk-container-id-8\" class=\"sk-top-container\"><div class=\"sk-text-repr-fallback\"><pre>KNeighborsClassifier(n_neighbors=3)</pre><b>In a Jupyter environment, please rerun this cell to show the HTML representation or trust the notebook. <br />On GitHub, the HTML representation is unable to render, please try loading this page with nbviewer.org.</b></div><div class=\"sk-container\" hidden><div class=\"sk-item\"><div class=\"sk-estimator sk-toggleable\"><input class=\"sk-toggleable__control sk-hidden--visually\" id=\"sk-estimator-id-12\" type=\"checkbox\" checked><label for=\"sk-estimator-id-12\" class=\"sk-toggleable__label sk-toggleable__label-arrow\">KNeighborsClassifier</label><div class=\"sk-toggleable__content\"><pre>KNeighborsClassifier(n_neighbors=3)</pre></div></div></div></div></div>"
      ],
      "text/plain": [
       "KNeighborsClassifier(n_neighbors=3)"
      ]
     },
     "execution_count": 56,
     "metadata": {},
     "output_type": "execute_result"
    }
   ],
   "source": [
    "knn_clf = KNeighborsClassifier(n_neighbors=3,p=2)   # manually tested - best value at n_neighbors=3\n",
    "knn_clf.fit(x_train_act,y_train_act)"
   ]
  },
  {
   "cell_type": "markdown",
   "id": "efb93f0d-d98c-4f65-b575-7f8fd40ad77f",
   "metadata": {},
   "source": [
    "#### 2. Model Evaluation"
   ]
  },
  {
   "cell_type": "code",
   "execution_count": 57,
   "id": "6c86b57e-bc05-4fd3-8498-31779922234b",
   "metadata": {},
   "outputs": [
    {
     "name": "stdout",
     "output_type": "stream",
     "text": [
      "train accuracy: 0.8583690987124464\n",
      "test accuracy: 0.7094017094017094\n"
     ]
    }
   ],
   "source": [
    "y_train_pred = knn_clf.predict(x_train_act)\n",
    "y_test_pred = knn_clf.predict(x_test_act)\n",
    "\n",
    "train_acc = accuracy_score(y_train_pred,y_train_act)\n",
    "test_acc = accuracy_score(y_test_pred,y_test_act)\n",
    "print(\"train accuracy:\",train_acc)\n",
    "print(\"test accuracy:\",test_acc)"
   ]
  },
  {
   "cell_type": "code",
   "execution_count": 58,
   "id": "6a909bc0-028c-4171-8210-73d5059d43e3",
   "metadata": {},
   "outputs": [
    {
     "name": "stdout",
     "output_type": "stream",
     "text": [
      "Confusion Matrix :\n",
      " [[300  33]\n",
      " [ 33 100]]\n",
      "\n",
      "Accuracy : 0.8583690987124464\n",
      "\n",
      "Classification Report :\n",
      "               precision    recall  f1-score   support\n",
      "\n",
      "           1       0.90      0.90      0.90       333\n",
      "           2       0.75      0.75      0.75       133\n",
      "\n",
      "    accuracy                           0.86       466\n",
      "   macro avg       0.83      0.83      0.83       466\n",
      "weighted avg       0.86      0.86      0.86       466\n",
      "\n"
     ]
    }
   ],
   "source": [
    "y_train_pred = knn_clf.predict(x_train_act)           # train eval\n",
    "cnf_matrix = confusion_matrix(y_train_act, y_train_pred)\n",
    "accuracy = accuracy_score(y_train_act, y_train_pred)\n",
    "clf_report = classification_report(y_train_act, y_train_pred)\n",
    "print(\"Confusion Matrix :\\n\",cnf_matrix,end='\\n\\n')\n",
    "print(\"Accuracy :\", accuracy,end='\\n\\n')\n",
    "print(\"Classification Report :\\n\", clf_report)"
   ]
  },
  {
   "cell_type": "code",
   "execution_count": 59,
   "id": "bd702a30-fa5c-4f32-b262-5973772c0034",
   "metadata": {},
   "outputs": [
    {
     "name": "stdout",
     "output_type": "stream",
     "text": [
      "Confusion Matrix :\n",
      " [[70 13]\n",
      " [21 13]]\n",
      "\n",
      "Accuracy : 0.7094017094017094\n",
      "\n",
      "Classification Report :\n",
      "               precision    recall  f1-score   support\n",
      "\n",
      "           1       0.77      0.84      0.80        83\n",
      "           2       0.50      0.38      0.43        34\n",
      "\n",
      "    accuracy                           0.71       117\n",
      "   macro avg       0.63      0.61      0.62       117\n",
      "weighted avg       0.69      0.71      0.70       117\n",
      "\n"
     ]
    }
   ],
   "source": [
    "y_test_pred = knn_clf.predict(x_test_act)                 # test eval\n",
    "cnf_matrix = confusion_matrix(y_test_act, y_test_pred)\n",
    "accuracy = accuracy_score(y_test_act, y_test_pred)\n",
    "clf_report = classification_report(y_test_act, y_test_pred)\n",
    "\n",
    "print(\"Confusion Matrix :\\n\",cnf_matrix,end='\\n\\n')\n",
    "print(\"Accuracy :\", accuracy,end='\\n\\n')\n",
    "print(\"Classification Report :\\n\", clf_report)"
   ]
  },
  {
   "cell_type": "markdown",
   "id": "33ea6740-63ae-4b70-bc5f-2a0f851a78b1",
   "metadata": {},
   "source": [
    "#### 3. Best p,k values"
   ]
  },
  {
   "cell_type": "code",
   "execution_count": 60,
   "id": "42fc59ff-7114-4734-b448-a0aa0e1dea58",
   "metadata": {},
   "outputs": [
    {
     "data": {
      "text/plain": [
       "Text(0, 0.5, 'Accuracy')"
      ]
     },
     "execution_count": 60,
     "metadata": {},
     "output_type": "execute_result"
    },
    {
     "data": {
      "image/png": "[encoded data removed]",
      "text/plain": [
       "<Figure size 640x480 with 1 Axes>"
      ]
     },
     "metadata": {},
     "output_type": "display_data"
    }
   ],
   "source": [
    "k_values = np.arange(1,15)     \n",
    "train_acc_list = []\n",
    "test_acc_list = []\n",
    "for k in k_values:\n",
    "    knn_clf = KNeighborsClassifier(n_neighbors=k, p = 2)\n",
    "    knn_clf.fit(x_train_act, y_train_act)\n",
    "    train_acc_list.append(np.around(knn_clf.score(x_train_act, y_train_act),3))\n",
    "    test_acc_list.append(np.around(knn_clf.score(x_test_act, y_test_act),3))\n",
    "\n",
    "plt.plot(k_values, train_acc_list)   \n",
    "plt.plot(k_values, test_acc_list)\n",
    "\n",
    "plt.xlabel(\"Kvalues\")\n",
    "plt.ylabel(\"Accuracy\")    "
   ]
  },
  {
   "cell_type": "code",
   "execution_count": 61,
   "id": "64c6f801-c889-4679-a7f4-0c59021605f3",
   "metadata": {},
   "outputs": [
    {
     "data": {
      "text/plain": [
       "Text(0, 0.5, 'Accuracy')"
      ]
     },
     "execution_count": 61,
     "metadata": {},
     "output_type": "execute_result"
    },
    {
     "data": {
      "image/png": "[encoded data removed]",
      "text/plain": [
       "<Figure size 640x480 with 1 Axes>"
      ]
     },
     "metadata": {},
     "output_type": "display_data"
    }
   ],
   "source": [
    "k_values = np.arange(1,15)           # p=1\n",
    "train_acc_list = []\n",
    "test_acc_list = []\n",
    "for k in k_values:\n",
    "    knn_clf = KNeighborsClassifier(n_neighbors=k, p = 1)\n",
    "    knn_clf.fit(x_train_act, y_train_act)\n",
    "    train_acc_list.append(np.around(knn_clf.score(x_train_act, y_train_act),3))\n",
    "    test_acc_list.append(np.around(knn_clf.score(x_test_act, y_test_act),3))\n",
    "\n",
    "plt.plot(k_values, train_acc_list)   \n",
    "plt.plot(k_values, test_acc_list)\n",
    "\n",
    "plt.xlabel(\"Kvalues\")\n",
    "plt.ylabel(\"Accuracy\")    "
   ]
  },
  {
   "cell_type": "code",
   "execution_count": null,
   "id": "7d2d6381-d7fd-46b5-9faf-5b0514017360",
   "metadata": {},
   "outputs": [],
   "source": [
    "best value : k=9, p=1"
   ]
  },
  {
   "cell_type": "code",
   "execution_count": 62,
   "id": "bbc9b73d-28b9-42e5-bc22-108ace52f34b",
   "metadata": {},
   "outputs": [
    {
     "data": {
      "text/html": [
       "<style>#sk-container-id-9 {color: black;}#sk-container-id-9 pre{padding: 0;}#sk-container-id-9 div.sk-toggleable {background-color: white;}#sk-container-id-9 label.sk-toggleable__label {cursor: pointer;display: block;width: 100%;margin-bottom: 0;padding: 0.3em;box-sizing: border-box;text-align: center;}#sk-container-id-9 label.sk-toggleable__label-arrow:before {content: \"▸\";float: left;margin-right: 0.25em;color: #696969;}#sk-container-id-9 label.sk-toggleable__label-arrow:hover:before {color: black;}#sk-container-id-9 div.sk-estimator:hover label.sk-toggleable__label-arrow:before {color: black;}#sk-container-id-9 div.sk-toggleable__content {max-height: 0;max-width: 0;overflow: hidden;text-align: left;background-color: #f0f8ff;}#sk-container-id-9 div.sk-toggleable__content pre {margin: 0.2em;color: black;border-radius: 0.25em;background-color: #f0f8ff;}#sk-container-id-9 input.sk-toggleable__control:checked~div.sk-toggleable__content {max-height: 200px;max-width: 100%;overflow: auto;}#sk-container-id-9 input.sk-toggleable__control:checked~label.sk-toggleable__label-arrow:before {content: \"▾\";}#sk-container-id-9 div.sk-estimator input.sk-toggleable__control:checked~label.sk-toggleable__label {background-color: #d4ebff;}#sk-container-id-9 div.sk-label input.sk-toggleable__control:checked~label.sk-toggleable__label {background-color: #d4ebff;}#sk-container-id-9 input.sk-hidden--visually {border: 0;clip: rect(1px 1px 1px 1px);clip: rect(1px, 1px, 1px, 1px);height: 1px;margin: -1px;overflow: hidden;padding: 0;position: absolute;width: 1px;}#sk-container-id-9 div.sk-estimator {font-family: monospace;background-color: #f0f8ff;border: 1px dotted black;border-radius: 0.25em;box-sizing: border-box;margin-bottom: 0.5em;}#sk-container-id-9 div.sk-estimator:hover {background-color: #d4ebff;}#sk-container-id-9 div.sk-parallel-item::after {content: \"\";width: 100%;border-bottom: 1px solid gray;flex-grow: 1;}#sk-container-id-9 div.sk-label:hover label.sk-toggleable__label {background-color: #d4ebff;}#sk-container-id-9 div.sk-serial::before {content: \"\";position: absolute;border-left: 1px solid gray;box-sizing: border-box;top: 0;bottom: 0;left: 50%;z-index: 0;}#sk-container-id-9 div.sk-serial {display: flex;flex-direction: column;align-items: center;background-color: white;padding-right: 0.2em;padding-left: 0.2em;position: relative;}#sk-container-id-9 div.sk-item {position: relative;z-index: 1;}#sk-container-id-9 div.sk-parallel {display: flex;align-items: stretch;justify-content: center;background-color: white;position: relative;}#sk-container-id-9 div.sk-item::before, #sk-container-id-9 div.sk-parallel-item::before {content: \"\";position: absolute;border-left: 1px solid gray;box-sizing: border-box;top: 0;bottom: 0;left: 50%;z-index: -1;}#sk-container-id-9 div.sk-parallel-item {display: flex;flex-direction: column;z-index: 1;position: relative;background-color: white;}#sk-container-id-9 div.sk-parallel-item:first-child::after {align-self: flex-end;width: 50%;}#sk-container-id-9 div.sk-parallel-item:last-child::after {align-self: flex-start;width: 50%;}#sk-container-id-9 div.sk-parallel-item:only-child::after {width: 0;}#sk-container-id-9 div.sk-dashed-wrapped {border: 1px dashed gray;margin: 0 0.4em 0.5em 0.4em;box-sizing: border-box;padding-bottom: 0.4em;background-color: white;}#sk-container-id-9 div.sk-label label {font-family: monospace;font-weight: bold;display: inline-block;line-height: 1.2em;}#sk-container-id-9 div.sk-label-container {text-align: center;}#sk-container-id-9 div.sk-container {/* jupyter's `normalize.less` sets `[hidden] { display: none; }` but bootstrap.min.css set `[hidden] { display: none !important; }` so we also need the `!important` here to be able to override the default hidden behavior on the sphinx rendered scikit-learn.org. See: https://github.com/scikit-learn/scikit-learn/issues/21755 */display: inline-block !important;position: relative;}#sk-container-id-9 div.sk-text-repr-fallback {display: none;}</style><div id=\"sk-container-id-9\" class=\"sk-top-container\"><div class=\"sk-text-repr-fallback\"><pre>KNeighborsClassifier(n_neighbors=9, p=1)</pre><b>In a Jupyter environment, please rerun this cell to show the HTML representation or trust the notebook. <br />On GitHub, the HTML representation is unable to render, please try loading this page with nbviewer.org.</b></div><div class=\"sk-container\" hidden><div class=\"sk-item\"><div class=\"sk-estimator sk-toggleable\"><input class=\"sk-toggleable__control sk-hidden--visually\" id=\"sk-estimator-id-13\" type=\"checkbox\" checked><label for=\"sk-estimator-id-13\" class=\"sk-toggleable__label sk-toggleable__label-arrow\">KNeighborsClassifier</label><div class=\"sk-toggleable__content\"><pre>KNeighborsClassifier(n_neighbors=9, p=1)</pre></div></div></div></div></div>"
      ],
      "text/plain": [
       "KNeighborsClassifier(n_neighbors=9, p=1)"
      ]
     },
     "execution_count": 62,
     "metadata": {},
     "output_type": "execute_result"
    }
   ],
   "source": [
    "knn_clf = KNeighborsClassifier(n_neighbors=9,p=1)   \n",
    "knn_clf.fit(x_train_act,y_train_act)"
   ]
  },
  {
   "cell_type": "code",
   "execution_count": 63,
   "id": "f5def467-119c-463d-9eca-063967f063cd",
   "metadata": {},
   "outputs": [
    {
     "name": "stdout",
     "output_type": "stream",
     "text": [
      "train accuracy: 0.7854077253218884\n",
      "test accuracy: 0.7264957264957265\n"
     ]
    }
   ],
   "source": [
    "y_train_pred = knn_clf.predict(x_train_act)\n",
    "y_test_pred = knn_clf.predict(x_test_act)\n",
    "\n",
    "train_acc = accuracy_score(y_train_pred,y_train_act)\n",
    "test_acc = accuracy_score(y_test_pred,y_test_act)\n",
    "print(\"train accuracy:\",train_acc)\n",
    "print(\"test accuracy:\",test_acc)"
   ]
  },
  {
   "cell_type": "markdown",
   "id": "84e862ca-66a0-4941-a560-18ad7d2c3b22",
   "metadata": {},
   "source": [
    "#### B.2 with standardization"
   ]
  },
  {
   "cell_type": "code",
   "execution_count": 64,
   "id": "5cce8a15-c13e-4300-a902-c884428ddd24",
   "metadata": {},
   "outputs": [
    {
     "data": {
      "text/plain": [
       "(583, 10)"
      ]
     },
     "execution_count": 64,
     "metadata": {},
     "output_type": "execute_result"
    }
   ],
   "source": [
    "x = df.drop('Selector',axis=1)\n",
    "y = df['Selector']\n",
    "\n",
    "std_scaler = StandardScaler()\n",
    "df_x = std_scaler.fit_transform(x)\n",
    "df_x.shape   "
   ]
  },
  {
   "cell_type": "code",
   "execution_count": 65,
   "id": "eafdd625-2da7-4ec3-b689-3187b2b68a7d",
   "metadata": {},
   "outputs": [],
   "source": [
    "x_train_act, x_test_act, y_train_act, y_test_act = train_test_split(df_x,y, random_state=0, test_size=0.2, stratify=y)"
   ]
  },
  {
   "cell_type": "code",
   "execution_count": 66,
   "id": "ddd9e87e-7aef-4238-92fe-28efd06c9289",
   "metadata": {},
   "outputs": [
    {
     "data": {
      "text/html": [
       "<style>#sk-container-id-10 {color: black;}#sk-container-id-10 pre{padding: 0;}#sk-container-id-10 div.sk-toggleable {background-color: white;}#sk-container-id-10 label.sk-toggleable__label {cursor: pointer;display: block;width: 100%;margin-bottom: 0;padding: 0.3em;box-sizing: border-box;text-align: center;}#sk-container-id-10 label.sk-toggleable__label-arrow:before {content: \"▸\";float: left;margin-right: 0.25em;color: #696969;}#sk-container-id-10 label.sk-toggleable__label-arrow:hover:before {color: black;}#sk-container-id-10 div.sk-estimator:hover label.sk-toggleable__label-arrow:before {color: black;}#sk-container-id-10 div.sk-toggleable__content {max-height: 0;max-width: 0;overflow: hidden;text-align: left;background-color: #f0f8ff;}#sk-container-id-10 div.sk-toggleable__content pre {margin: 0.2em;color: black;border-radius: 0.25em;background-color: #f0f8ff;}#sk-container-id-10 input.sk-toggleable__control:checked~div.sk-toggleable__content {max-height: 200px;max-width: 100%;overflow: auto;}#sk-container-id-10 input.sk-toggleable__control:checked~label.sk-toggleable__label-arrow:before {content: \"▾\";}#sk-container-id-10 div.sk-estimator input.sk-toggleable__control:checked~label.sk-toggleable__label {background-color: #d4ebff;}#sk-container-id-10 div.sk-label input.sk-toggleable__control:checked~label.sk-toggleable__label {background-color: #d4ebff;}#sk-container-id-10 input.sk-hidden--visually {border: 0;clip: rect(1px 1px 1px 1px);clip: rect(1px, 1px, 1px, 1px);height: 1px;margin: -1px;overflow: hidden;padding: 0;position: absolute;width: 1px;}#sk-container-id-10 div.sk-estimator {font-family: monospace;background-color: #f0f8ff;border: 1px dotted black;border-radius: 0.25em;box-sizing: border-box;margin-bottom: 0.5em;}#sk-container-id-10 div.sk-estimator:hover {background-color: #d4ebff;}#sk-container-id-10 div.sk-parallel-item::after {content: \"\";width: 100%;border-bottom: 1px solid gray;flex-grow: 1;}#sk-container-id-10 div.sk-label:hover label.sk-toggleable__label {background-color: #d4ebff;}#sk-container-id-10 div.sk-serial::before {content: \"\";position: absolute;border-left: 1px solid gray;box-sizing: border-box;top: 0;bottom: 0;left: 50%;z-index: 0;}#sk-container-id-10 div.sk-serial {display: flex;flex-direction: column;align-items: center;background-color: white;padding-right: 0.2em;padding-left: 0.2em;position: relative;}#sk-container-id-10 div.sk-item {position: relative;z-index: 1;}#sk-container-id-10 div.sk-parallel {display: flex;align-items: stretch;justify-content: center;background-color: white;position: relative;}#sk-container-id-10 div.sk-item::before, #sk-container-id-10 div.sk-parallel-item::before {content: \"\";position: absolute;border-left: 1px solid gray;box-sizing: border-box;top: 0;bottom: 0;left: 50%;z-index: -1;}#sk-container-id-10 div.sk-parallel-item {display: flex;flex-direction: column;z-index: 1;position: relative;background-color: white;}#sk-container-id-10 div.sk-parallel-item:first-child::after {align-self: flex-end;width: 50%;}#sk-container-id-10 div.sk-parallel-item:last-child::after {align-self: flex-start;width: 50%;}#sk-container-id-10 div.sk-parallel-item:only-child::after {width: 0;}#sk-container-id-10 div.sk-dashed-wrapped {border: 1px dashed gray;margin: 0 0.4em 0.5em 0.4em;box-sizing: border-box;padding-bottom: 0.4em;background-color: white;}#sk-container-id-10 div.sk-label label {font-family: monospace;font-weight: bold;display: inline-block;line-height: 1.2em;}#sk-container-id-10 div.sk-label-container {text-align: center;}#sk-container-id-10 div.sk-container {/* jupyter's `normalize.less` sets `[hidden] { display: none; }` but bootstrap.min.css set `[hidden] { display: none !important; }` so we also need the `!important` here to be able to override the default hidden behavior on the sphinx rendered scikit-learn.org. See: https://github.com/scikit-learn/scikit-learn/issues/21755 */display: inline-block !important;position: relative;}#sk-container-id-10 div.sk-text-repr-fallback {display: none;}</style><div id=\"sk-container-id-10\" class=\"sk-top-container\"><div class=\"sk-text-repr-fallback\"><pre>KNeighborsClassifier(n_neighbors=4)</pre><b>In a Jupyter environment, please rerun this cell to show the HTML representation or trust the notebook. <br />On GitHub, the HTML representation is unable to render, please try loading this page with nbviewer.org.</b></div><div class=\"sk-container\" hidden><div class=\"sk-item\"><div class=\"sk-estimator sk-toggleable\"><input class=\"sk-toggleable__control sk-hidden--visually\" id=\"sk-estimator-id-14\" type=\"checkbox\" checked><label for=\"sk-estimator-id-14\" class=\"sk-toggleable__label sk-toggleable__label-arrow\">KNeighborsClassifier</label><div class=\"sk-toggleable__content\"><pre>KNeighborsClassifier(n_neighbors=4)</pre></div></div></div></div></div>"
      ],
      "text/plain": [
       "KNeighborsClassifier(n_neighbors=4)"
      ]
     },
     "execution_count": 66,
     "metadata": {},
     "output_type": "execute_result"
    }
   ],
   "source": [
    "knn_clf = KNeighborsClassifier(n_neighbors=4,p=2)         \n",
    "knn_clf.fit(x_train_act,y_train_act)"
   ]
  },
  {
   "cell_type": "code",
   "execution_count": 67,
   "id": "2be67826-381a-4d7e-8c45-5cc8abfaf870",
   "metadata": {},
   "outputs": [
    {
     "name": "stdout",
     "output_type": "stream",
     "text": [
      "train accuracy: 0.8175965665236051\n",
      "test accuracy: 0.7435897435897436\n"
     ]
    }
   ],
   "source": [
    "y_train_pred = knn_clf.predict(x_train_act)\n",
    "y_test_pred = knn_clf.predict(x_test_act)\n",
    "\n",
    "train_acc = accuracy_score(y_train_pred,y_train_act)\n",
    "test_acc = accuracy_score(y_test_pred,y_test_act)\n",
    "print(\"train accuracy:\",train_acc)\n",
    "print(\"test accuracy:\",test_acc)"
   ]
  },
  {
   "cell_type": "markdown",
   "id": "133e4e1b-a6d3-4703-8592-9fa175e992fa",
   "metadata": {},
   "source": [
    "#### Best p,k value"
   ]
  },
  {
   "cell_type": "code",
   "execution_count": 68,
   "id": "ed6ef5b1-5e5f-45a1-8a2b-a9f1d392461a",
   "metadata": {},
   "outputs": [
    {
     "data": {
      "text/plain": [
       "Text(0, 0.5, 'Accuracy')"
      ]
     },
     "execution_count": 68,
     "metadata": {},
     "output_type": "execute_result"
    },
    {
     "data": {
      "image/png": "[encoded data removed]",
      "text/plain": [
       "<Figure size 640x480 with 1 Axes>"
      ]
     },
     "metadata": {},
     "output_type": "display_data"
    }
   ],
   "source": [
    "k_values = np.arange(1,15)     \n",
    "train_acc_list = []\n",
    "test_acc_list = []\n",
    "for k in k_values:\n",
    "    knn_clf = KNeighborsClassifier(n_neighbors=k, p = 2)\n",
    "    knn_clf.fit(x_train_act, y_train_act)\n",
    "    train_acc_list.append(np.around(knn_clf.score(x_train_act, y_train_act),3))\n",
    "    test_acc_list.append(np.around(knn_clf.score(x_test_act, y_test_act),3))\n",
    "\n",
    "plt.plot(k_values, train_acc_list)   \n",
    "plt.plot(k_values, test_acc_list)\n",
    "\n",
    "plt.xlabel(\"Kvalues\")\n",
    "plt.ylabel(\"Accuracy\")    "
   ]
  },
  {
   "cell_type": "code",
   "execution_count": 69,
   "id": "9f722a5c-0d4c-410d-93bb-31cc61d356aa",
   "metadata": {},
   "outputs": [
    {
     "data": {
      "text/plain": [
       "Text(0, 0.5, 'Accuracy')"
      ]
     },
     "execution_count": 69,
     "metadata": {},
     "output_type": "execute_result"
    },
    {
     "data": {
      "image/png": "[encoded data removed]",
      "text/plain": [
       "<Figure size 640x480 with 1 Axes>"
      ]
     },
     "metadata": {},
     "output_type": "display_data"
    }
   ],
   "source": [
    "k_values = np.arange(1,15)           # p=1\n",
    "train_acc_list = []\n",
    "test_acc_list = []\n",
    "for k in k_values:\n",
    "    knn_clf = KNeighborsClassifier(n_neighbors=k, p = 1)\n",
    "    knn_clf.fit(x_train_act, y_train_act)\n",
    "    train_acc_list.append(np.around(knn_clf.score(x_train_act, y_train_act),3))\n",
    "    test_acc_list.append(np.around(knn_clf.score(x_test_act, y_test_act),3))\n",
    "\n",
    "plt.plot(k_values, train_acc_list)   \n",
    "plt.plot(k_values, test_acc_list)\n",
    "\n",
    "plt.xlabel(\"Kvalues\")\n",
    "plt.ylabel(\"Accuracy\")    "
   ]
  },
  {
   "cell_type": "code",
   "execution_count": null,
   "id": "dcfd7db0-3d26-40c0-8a40-22c493f6f64f",
   "metadata": {},
   "outputs": [],
   "source": [
    "Best values : k=6, p=2"
   ]
  },
  {
   "cell_type": "code",
   "execution_count": 70,
   "id": "b939b682-47c4-4422-adcc-44b448bac064",
   "metadata": {},
   "outputs": [
    {
     "name": "stdout",
     "output_type": "stream",
     "text": [
      "train accuracy: 0.7918454935622318\n",
      "test accuracy: 0.717948717948718\n"
     ]
    }
   ],
   "source": [
    "knn_clf = KNeighborsClassifier(n_neighbors=6,p=2)   \n",
    "knn_clf.fit(x_train_act,y_train_act)\n",
    "\n",
    "y_train_pred = knn_clf.predict(x_train_act)\n",
    "y_test_pred = knn_clf.predict(x_test_act)\n",
    "\n",
    "train_acc = accuracy_score(y_train_pred,y_train_act)\n",
    "test_acc = accuracy_score(y_test_pred,y_test_act)\n",
    "print(\"train accuracy:\",train_acc)\n",
    "print(\"test accuracy:\",test_acc)"
   ]
  },
  {
   "cell_type": "markdown",
   "id": "2a1a4bdb-3435-4561-97c5-2d78ad68a144",
   "metadata": {},
   "source": [
    "## C. Random Forest"
   ]
  },
  {
   "cell_type": "markdown",
   "id": "61c59d7b-4241-4548-996c-cffdcf5cb48c",
   "metadata": {},
   "source": [
    "#### 1. Model Train"
   ]
  },
  {
   "cell_type": "code",
   "execution_count": 78,
   "id": "d6f3eea9-590c-41dd-b3b3-1a03e1033e88",
   "metadata": {},
   "outputs": [
    {
     "data": {
      "text/html": [
       "<style>#sk-container-id-13 {color: black;}#sk-container-id-13 pre{padding: 0;}#sk-container-id-13 div.sk-toggleable {background-color: white;}#sk-container-id-13 label.sk-toggleable__label {cursor: pointer;display: block;width: 100%;margin-bottom: 0;padding: 0.3em;box-sizing: border-box;text-align: center;}#sk-container-id-13 label.sk-toggleable__label-arrow:before {content: \"▸\";float: left;margin-right: 0.25em;color: #696969;}#sk-container-id-13 label.sk-toggleable__label-arrow:hover:before {color: black;}#sk-container-id-13 div.sk-estimator:hover label.sk-toggleable__label-arrow:before {color: black;}#sk-container-id-13 div.sk-toggleable__content {max-height: 0;max-width: 0;overflow: hidden;text-align: left;background-color: #f0f8ff;}#sk-container-id-13 div.sk-toggleable__content pre {margin: 0.2em;color: black;border-radius: 0.25em;background-color: #f0f8ff;}#sk-container-id-13 input.sk-toggleable__control:checked~div.sk-toggleable__content {max-height: 200px;max-width: 100%;overflow: auto;}#sk-container-id-13 input.sk-toggleable__control:checked~label.sk-toggleable__label-arrow:before {content: \"▾\";}#sk-container-id-13 div.sk-estimator input.sk-toggleable__control:checked~label.sk-toggleable__label {background-color: #d4ebff;}#sk-container-id-13 div.sk-label input.sk-toggleable__control:checked~label.sk-toggleable__label {background-color: #d4ebff;}#sk-container-id-13 input.sk-hidden--visually {border: 0;clip: rect(1px 1px 1px 1px);clip: rect(1px, 1px, 1px, 1px);height: 1px;margin: -1px;overflow: hidden;padding: 0;position: absolute;width: 1px;}#sk-container-id-13 div.sk-estimator {font-family: monospace;background-color: #f0f8ff;border: 1px dotted black;border-radius: 0.25em;box-sizing: border-box;margin-bottom: 0.5em;}#sk-container-id-13 div.sk-estimator:hover {background-color: #d4ebff;}#sk-container-id-13 div.sk-parallel-item::after {content: \"\";width: 100%;border-bottom: 1px solid gray;flex-grow: 1;}#sk-container-id-13 div.sk-label:hover label.sk-toggleable__label {background-color: #d4ebff;}#sk-container-id-13 div.sk-serial::before {content: \"\";position: absolute;border-left: 1px solid gray;box-sizing: border-box;top: 0;bottom: 0;left: 50%;z-index: 0;}#sk-container-id-13 div.sk-serial {display: flex;flex-direction: column;align-items: center;background-color: white;padding-right: 0.2em;padding-left: 0.2em;position: relative;}#sk-container-id-13 div.sk-item {position: relative;z-index: 1;}#sk-container-id-13 div.sk-parallel {display: flex;align-items: stretch;justify-content: center;background-color: white;position: relative;}#sk-container-id-13 div.sk-item::before, #sk-container-id-13 div.sk-parallel-item::before {content: \"\";position: absolute;border-left: 1px solid gray;box-sizing: border-box;top: 0;bottom: 0;left: 50%;z-index: -1;}#sk-container-id-13 div.sk-parallel-item {display: flex;flex-direction: column;z-index: 1;position: relative;background-color: white;}#sk-container-id-13 div.sk-parallel-item:first-child::after {align-self: flex-end;width: 50%;}#sk-container-id-13 div.sk-parallel-item:last-child::after {align-self: flex-start;width: 50%;}#sk-container-id-13 div.sk-parallel-item:only-child::after {width: 0;}#sk-container-id-13 div.sk-dashed-wrapped {border: 1px dashed gray;margin: 0 0.4em 0.5em 0.4em;box-sizing: border-box;padding-bottom: 0.4em;background-color: white;}#sk-container-id-13 div.sk-label label {font-family: monospace;font-weight: bold;display: inline-block;line-height: 1.2em;}#sk-container-id-13 div.sk-label-container {text-align: center;}#sk-container-id-13 div.sk-container {/* jupyter's `normalize.less` sets `[hidden] { display: none; }` but bootstrap.min.css set `[hidden] { display: none !important; }` so we also need the `!important` here to be able to override the default hidden behavior on the sphinx rendered scikit-learn.org. See: https://github.com/scikit-learn/scikit-learn/issues/21755 */display: inline-block !important;position: relative;}#sk-container-id-13 div.sk-text-repr-fallback {display: none;}</style><div id=\"sk-container-id-13\" class=\"sk-top-container\"><div class=\"sk-text-repr-fallback\"><pre>RandomForestClassifier(random_state=1)</pre><b>In a Jupyter environment, please rerun this cell to show the HTML representation or trust the notebook. <br />On GitHub, the HTML representation is unable to render, please try loading this page with nbviewer.org.</b></div><div class=\"sk-container\" hidden><div class=\"sk-item\"><div class=\"sk-estimator sk-toggleable\"><input class=\"sk-toggleable__control sk-hidden--visually\" id=\"sk-estimator-id-17\" type=\"checkbox\" checked><label for=\"sk-estimator-id-17\" class=\"sk-toggleable__label sk-toggleable__label-arrow\">RandomForestClassifier</label><div class=\"sk-toggleable__content\"><pre>RandomForestClassifier(random_state=1)</pre></div></div></div></div></div>"
      ],
      "text/plain": [
       "RandomForestClassifier(random_state=1)"
      ]
     },
     "execution_count": 78,
     "metadata": {},
     "output_type": "execute_result"
    }
   ],
   "source": [
    "rf_clf = RandomForestClassifier(random_state=1)\n",
    "rf_clf.fit(x_train_act, y_train_act)"
   ]
  },
  {
   "cell_type": "markdown",
   "id": "c1aa6c0c-d60e-48ad-9efa-925bc6a2ee7d",
   "metadata": {},
   "source": [
    "#### 2. Evaluation"
   ]
  },
  {
   "cell_type": "code",
   "execution_count": 79,
   "id": "4dc2e987-0c44-4211-940f-97fd8e6df250",
   "metadata": {},
   "outputs": [
    {
     "name": "stdout",
     "output_type": "stream",
     "text": [
      "train accuracy: 1.0\n",
      "test accuracy: 0.7094017094017094\n"
     ]
    }
   ],
   "source": [
    "y_train_pred = rf_clf.predict(x_train_act)\n",
    "y_test_pred = rf_clf.predict(x_test_act)\n",
    "\n",
    "train_acc = accuracy_score(y_train_pred,y_train_act)\n",
    "test_acc = accuracy_score(y_test_pred,y_test_act)\n",
    "print(\"train accuracy:\",train_acc)\n",
    "print(\"test accuracy:\",test_acc)"
   ]
  },
  {
   "cell_type": "code",
   "execution_count": 80,
   "id": "813d6a80-7e68-405d-ab73-9f3d5d591b35",
   "metadata": {},
   "outputs": [
    {
     "name": "stdout",
     "output_type": "stream",
     "text": [
      "Confusion Matrix:\n",
      " [[333   0]\n",
      " [  0 133]]\n",
      "\n",
      "Accuracy : 1.0\n",
      "\n",
      "Classification report :\n",
      "               precision    recall  f1-score   support\n",
      "\n",
      "           1       1.00      1.00      1.00       333\n",
      "           2       1.00      1.00      1.00       133\n",
      "\n",
      "    accuracy                           1.00       466\n",
      "   macro avg       1.00      1.00      1.00       466\n",
      "weighted avg       1.00      1.00      1.00       466\n",
      "\n"
     ]
    }
   ],
   "source": [
    "# Training Data Evaluation\n",
    "y_train_pred = rf_clf.predict(x_train_act)\n",
    "cnf_matrix = confusion_matrix(y_train_act, y_train_pred)\n",
    "accuracy = accuracy_score(y_train_act, y_train_pred)\n",
    "clf_report = classification_report(y_train_act, y_train_pred)\n",
    "\n",
    "print(\"Confusion Matrix:\\n\",cnf_matrix,end='\\n\\n')\n",
    "print(\"Accuracy :\",accuracy,end='\\n\\n')\n",
    "print('Classification report :\\n',clf_report)"
   ]
  },
  {
   "cell_type": "code",
   "execution_count": 81,
   "id": "c085abc8-fc42-4a13-9fda-296e4744ba8c",
   "metadata": {},
   "outputs": [
    {
     "name": "stdout",
     "output_type": "stream",
     "text": [
      "Confusion Matrix:\n",
      " [[75  8]\n",
      " [26  8]]\n",
      "\n",
      "Accuracy : 0.7094017094017094\n",
      "\n",
      "Classification report :\n",
      "               precision    recall  f1-score   support\n",
      "\n",
      "           1       0.74      0.90      0.82        83\n",
      "           2       0.50      0.24      0.32        34\n",
      "\n",
      "    accuracy                           0.71       117\n",
      "   macro avg       0.62      0.57      0.57       117\n",
      "weighted avg       0.67      0.71      0.67       117\n",
      "\n"
     ]
    }
   ],
   "source": [
    "# Test Data Evaluation\n",
    "y_test_pred = rf_clf.predict(x_test_act)\n",
    "cnf_matrix = confusion_matrix(y_test_act, y_test_pred)\n",
    "accuracy = accuracy_score(y_test_act, y_test_pred)\n",
    "clf_report = classification_report(y_test_act, y_test_pred)\n",
    "\n",
    "print(\"Confusion Matrix:\\n\",cnf_matrix,end='\\n\\n')\n",
    "print(\"Accuracy :\",accuracy,end='\\n\\n')\n",
    "print('Classification report :\\n',clf_report)"
   ]
  },
  {
   "cell_type": "markdown",
   "id": "3f6c1f58-ad3f-4155-a924-729e203b9a61",
   "metadata": {},
   "source": [
    "#### 3. Hyperpara Tuning"
   ]
  },
  {
   "cell_type": "code",
   "execution_count": 82,
   "id": "e80dd9fa-38d1-485e-8b64-aa5ac3bd2402",
   "metadata": {},
   "outputs": [
    {
     "data": {
      "text/html": [
       "<style>#sk-container-id-14 {color: black;}#sk-container-id-14 pre{padding: 0;}#sk-container-id-14 div.sk-toggleable {background-color: white;}#sk-container-id-14 label.sk-toggleable__label {cursor: pointer;display: block;width: 100%;margin-bottom: 0;padding: 0.3em;box-sizing: border-box;text-align: center;}#sk-container-id-14 label.sk-toggleable__label-arrow:before {content: \"▸\";float: left;margin-right: 0.25em;color: #696969;}#sk-container-id-14 label.sk-toggleable__label-arrow:hover:before {color: black;}#sk-container-id-14 div.sk-estimator:hover label.sk-toggleable__label-arrow:before {color: black;}#sk-container-id-14 div.sk-toggleable__content {max-height: 0;max-width: 0;overflow: hidden;text-align: left;background-color: #f0f8ff;}#sk-container-id-14 div.sk-toggleable__content pre {margin: 0.2em;color: black;border-radius: 0.25em;background-color: #f0f8ff;}#sk-container-id-14 input.sk-toggleable__control:checked~div.sk-toggleable__content {max-height: 200px;max-width: 100%;overflow: auto;}#sk-container-id-14 input.sk-toggleable__control:checked~label.sk-toggleable__label-arrow:before {content: \"▾\";}#sk-container-id-14 div.sk-estimator input.sk-toggleable__control:checked~label.sk-toggleable__label {background-color: #d4ebff;}#sk-container-id-14 div.sk-label input.sk-toggleable__control:checked~label.sk-toggleable__label {background-color: #d4ebff;}#sk-container-id-14 input.sk-hidden--visually {border: 0;clip: rect(1px 1px 1px 1px);clip: rect(1px, 1px, 1px, 1px);height: 1px;margin: -1px;overflow: hidden;padding: 0;position: absolute;width: 1px;}#sk-container-id-14 div.sk-estimator {font-family: monospace;background-color: #f0f8ff;border: 1px dotted black;border-radius: 0.25em;box-sizing: border-box;margin-bottom: 0.5em;}#sk-container-id-14 div.sk-estimator:hover {background-color: #d4ebff;}#sk-container-id-14 div.sk-parallel-item::after {content: \"\";width: 100%;border-bottom: 1px solid gray;flex-grow: 1;}#sk-container-id-14 div.sk-label:hover label.sk-toggleable__label {background-color: #d4ebff;}#sk-container-id-14 div.sk-serial::before {content: \"\";position: absolute;border-left: 1px solid gray;box-sizing: border-box;top: 0;bottom: 0;left: 50%;z-index: 0;}#sk-container-id-14 div.sk-serial {display: flex;flex-direction: column;align-items: center;background-color: white;padding-right: 0.2em;padding-left: 0.2em;position: relative;}#sk-container-id-14 div.sk-item {position: relative;z-index: 1;}#sk-container-id-14 div.sk-parallel {display: flex;align-items: stretch;justify-content: center;background-color: white;position: relative;}#sk-container-id-14 div.sk-item::before, #sk-container-id-14 div.sk-parallel-item::before {content: \"\";position: absolute;border-left: 1px solid gray;box-sizing: border-box;top: 0;bottom: 0;left: 50%;z-index: -1;}#sk-container-id-14 div.sk-parallel-item {display: flex;flex-direction: column;z-index: 1;position: relative;background-color: white;}#sk-container-id-14 div.sk-parallel-item:first-child::after {align-self: flex-end;width: 50%;}#sk-container-id-14 div.sk-parallel-item:last-child::after {align-self: flex-start;width: 50%;}#sk-container-id-14 div.sk-parallel-item:only-child::after {width: 0;}#sk-container-id-14 div.sk-dashed-wrapped {border: 1px dashed gray;margin: 0 0.4em 0.5em 0.4em;box-sizing: border-box;padding-bottom: 0.4em;background-color: white;}#sk-container-id-14 div.sk-label label {font-family: monospace;font-weight: bold;display: inline-block;line-height: 1.2em;}#sk-container-id-14 div.sk-label-container {text-align: center;}#sk-container-id-14 div.sk-container {/* jupyter's `normalize.less` sets `[hidden] { display: none; }` but bootstrap.min.css set `[hidden] { display: none !important; }` so we also need the `!important` here to be able to override the default hidden behavior on the sphinx rendered scikit-learn.org. See: https://github.com/scikit-learn/scikit-learn/issues/21755 */display: inline-block !important;position: relative;}#sk-container-id-14 div.sk-text-repr-fallback {display: none;}</style><div id=\"sk-container-id-14\" class=\"sk-top-container\"><div class=\"sk-text-repr-fallback\"><pre>GridSearchCV(cv=7, estimator=RandomForestClassifier(n_jobs=-1, random_state=1),\n",
       "             n_jobs=-1,\n",
       "             param_grid={&#x27;criterion&#x27;: [&#x27;gini&#x27;, &#x27;entropy&#x27;],\n",
       "                         &#x27;max_depth&#x27;: array([5, 7, 9]),\n",
       "                         &#x27;min_samples_leaf&#x27;: range(4, 8, 2),\n",
       "                         &#x27;min_samples_split&#x27;: range(8, 16, 2),\n",
       "                         &#x27;n_estimators&#x27;: array([10, 20, 30, 40, 50, 60, 70])})</pre><b>In a Jupyter environment, please rerun this cell to show the HTML representation or trust the notebook. <br />On GitHub, the HTML representation is unable to render, please try loading this page with nbviewer.org.</b></div><div class=\"sk-container\" hidden><div class=\"sk-item sk-dashed-wrapped\"><div class=\"sk-label-container\"><div class=\"sk-label sk-toggleable\"><input class=\"sk-toggleable__control sk-hidden--visually\" id=\"sk-estimator-id-18\" type=\"checkbox\" ><label for=\"sk-estimator-id-18\" class=\"sk-toggleable__label sk-toggleable__label-arrow\">GridSearchCV</label><div class=\"sk-toggleable__content\"><pre>GridSearchCV(cv=7, estimator=RandomForestClassifier(n_jobs=-1, random_state=1),\n",
       "             n_jobs=-1,\n",
       "             param_grid={&#x27;criterion&#x27;: [&#x27;gini&#x27;, &#x27;entropy&#x27;],\n",
       "                         &#x27;max_depth&#x27;: array([5, 7, 9]),\n",
       "                         &#x27;min_samples_leaf&#x27;: range(4, 8, 2),\n",
       "                         &#x27;min_samples_split&#x27;: range(8, 16, 2),\n",
       "                         &#x27;n_estimators&#x27;: array([10, 20, 30, 40, 50, 60, 70])})</pre></div></div></div><div class=\"sk-parallel\"><div class=\"sk-parallel-item\"><div class=\"sk-item\"><div class=\"sk-label-container\"><div class=\"sk-label sk-toggleable\"><input class=\"sk-toggleable__control sk-hidden--visually\" id=\"sk-estimator-id-19\" type=\"checkbox\" ><label for=\"sk-estimator-id-19\" class=\"sk-toggleable__label sk-toggleable__label-arrow\">estimator: RandomForestClassifier</label><div class=\"sk-toggleable__content\"><pre>RandomForestClassifier(n_jobs=-1, random_state=1)</pre></div></div></div><div class=\"sk-serial\"><div class=\"sk-item\"><div class=\"sk-estimator sk-toggleable\"><input class=\"sk-toggleable__control sk-hidden--visually\" id=\"sk-estimator-id-20\" type=\"checkbox\" ><label for=\"sk-estimator-id-20\" class=\"sk-toggleable__label sk-toggleable__label-arrow\">RandomForestClassifier</label><div class=\"sk-toggleable__content\"><pre>RandomForestClassifier(n_jobs=-1, random_state=1)</pre></div></div></div></div></div></div></div></div></div></div>"
      ],
      "text/plain": [
       "GridSearchCV(cv=7, estimator=RandomForestClassifier(n_jobs=-1, random_state=1),\n",
       "             n_jobs=-1,\n",
       "             param_grid={'criterion': ['gini', 'entropy'],\n",
       "                         'max_depth': array([5, 7, 9]),\n",
       "                         'min_samples_leaf': range(4, 8, 2),\n",
       "                         'min_samples_split': range(8, 16, 2),\n",
       "                         'n_estimators': array([10, 20, 30, 40, 50, 60, 70])})"
      ]
     },
     "execution_count": 82,
     "metadata": {},
     "output_type": "execute_result"
    }
   ],
   "source": [
    "rf_model = RandomForestClassifier(random_state=1, n_jobs = -1)\n",
    "\n",
    "hyp_grid = {\"n_estimators\":np.arange(10,80,10),\n",
    "            \"criterion\" : ['gini','entropy'],\n",
    "            \"max_depth\" : np.arange(5,10,2),\n",
    "            \"min_samples_split\" : range(8,16,2),\n",
    "            \"min_samples_leaf\" : range(4,8,2)}\n",
    "\n",
    "gscv_rf_model = GridSearchCV(rf_model,param_grid = hyp_grid, cv = 7,n_jobs  = -1)\n",
    "gscv_rf_model.fit(x_train_act, y_train_act)"
   ]
  },
  {
   "cell_type": "code",
   "execution_count": 83,
   "id": "ce755d3a-2b04-4ba8-b146-760757d15840",
   "metadata": {},
   "outputs": [
    {
     "data": {
      "text/html": [
       "<style>#sk-container-id-15 {color: black;}#sk-container-id-15 pre{padding: 0;}#sk-container-id-15 div.sk-toggleable {background-color: white;}#sk-container-id-15 label.sk-toggleable__label {cursor: pointer;display: block;width: 100%;margin-bottom: 0;padding: 0.3em;box-sizing: border-box;text-align: center;}#sk-container-id-15 label.sk-toggleable__label-arrow:before {content: \"▸\";float: left;margin-right: 0.25em;color: #696969;}#sk-container-id-15 label.sk-toggleable__label-arrow:hover:before {color: black;}#sk-container-id-15 div.sk-estimator:hover label.sk-toggleable__label-arrow:before {color: black;}#sk-container-id-15 div.sk-toggleable__content {max-height: 0;max-width: 0;overflow: hidden;text-align: left;background-color: #f0f8ff;}#sk-container-id-15 div.sk-toggleable__content pre {margin: 0.2em;color: black;border-radius: 0.25em;background-color: #f0f8ff;}#sk-container-id-15 input.sk-toggleable__control:checked~div.sk-toggleable__content {max-height: 200px;max-width: 100%;overflow: auto;}#sk-container-id-15 input.sk-toggleable__control:checked~label.sk-toggleable__label-arrow:before {content: \"▾\";}#sk-container-id-15 div.sk-estimator input.sk-toggleable__control:checked~label.sk-toggleable__label {background-color: #d4ebff;}#sk-container-id-15 div.sk-label input.sk-toggleable__control:checked~label.sk-toggleable__label {background-color: #d4ebff;}#sk-container-id-15 input.sk-hidden--visually {border: 0;clip: rect(1px 1px 1px 1px);clip: rect(1px, 1px, 1px, 1px);height: 1px;margin: -1px;overflow: hidden;padding: 0;position: absolute;width: 1px;}#sk-container-id-15 div.sk-estimator {font-family: monospace;background-color: #f0f8ff;border: 1px dotted black;border-radius: 0.25em;box-sizing: border-box;margin-bottom: 0.5em;}#sk-container-id-15 div.sk-estimator:hover {background-color: #d4ebff;}#sk-container-id-15 div.sk-parallel-item::after {content: \"\";width: 100%;border-bottom: 1px solid gray;flex-grow: 1;}#sk-container-id-15 div.sk-label:hover label.sk-toggleable__label {background-color: #d4ebff;}#sk-container-id-15 div.sk-serial::before {content: \"\";position: absolute;border-left: 1px solid gray;box-sizing: border-box;top: 0;bottom: 0;left: 50%;z-index: 0;}#sk-container-id-15 div.sk-serial {display: flex;flex-direction: column;align-items: center;background-color: white;padding-right: 0.2em;padding-left: 0.2em;position: relative;}#sk-container-id-15 div.sk-item {position: relative;z-index: 1;}#sk-container-id-15 div.sk-parallel {display: flex;align-items: stretch;justify-content: center;background-color: white;position: relative;}#sk-container-id-15 div.sk-item::before, #sk-container-id-15 div.sk-parallel-item::before {content: \"\";position: absolute;border-left: 1px solid gray;box-sizing: border-box;top: 0;bottom: 0;left: 50%;z-index: -1;}#sk-container-id-15 div.sk-parallel-item {display: flex;flex-direction: column;z-index: 1;position: relative;background-color: white;}#sk-container-id-15 div.sk-parallel-item:first-child::after {align-self: flex-end;width: 50%;}#sk-container-id-15 div.sk-parallel-item:last-child::after {align-self: flex-start;width: 50%;}#sk-container-id-15 div.sk-parallel-item:only-child::after {width: 0;}#sk-container-id-15 div.sk-dashed-wrapped {border: 1px dashed gray;margin: 0 0.4em 0.5em 0.4em;box-sizing: border-box;padding-bottom: 0.4em;background-color: white;}#sk-container-id-15 div.sk-label label {font-family: monospace;font-weight: bold;display: inline-block;line-height: 1.2em;}#sk-container-id-15 div.sk-label-container {text-align: center;}#sk-container-id-15 div.sk-container {/* jupyter's `normalize.less` sets `[hidden] { display: none; }` but bootstrap.min.css set `[hidden] { display: none !important; }` so we also need the `!important` here to be able to override the default hidden behavior on the sphinx rendered scikit-learn.org. See: https://github.com/scikit-learn/scikit-learn/issues/21755 */display: inline-block !important;position: relative;}#sk-container-id-15 div.sk-text-repr-fallback {display: none;}</style><div id=\"sk-container-id-15\" class=\"sk-top-container\"><div class=\"sk-text-repr-fallback\"><pre>RandomForestClassifier(criterion=&#x27;entropy&#x27;, max_depth=9, min_samples_leaf=4,\n",
       "                       min_samples_split=14, n_estimators=10, n_jobs=-1,\n",
       "                       random_state=1)</pre><b>In a Jupyter environment, please rerun this cell to show the HTML representation or trust the notebook. <br />On GitHub, the HTML representation is unable to render, please try loading this page with nbviewer.org.</b></div><div class=\"sk-container\" hidden><div class=\"sk-item\"><div class=\"sk-estimator sk-toggleable\"><input class=\"sk-toggleable__control sk-hidden--visually\" id=\"sk-estimator-id-21\" type=\"checkbox\" checked><label for=\"sk-estimator-id-21\" class=\"sk-toggleable__label sk-toggleable__label-arrow\">RandomForestClassifier</label><div class=\"sk-toggleable__content\"><pre>RandomForestClassifier(criterion=&#x27;entropy&#x27;, max_depth=9, min_samples_leaf=4,\n",
       "                       min_samples_split=14, n_estimators=10, n_jobs=-1,\n",
       "                       random_state=1)</pre></div></div></div></div></div>"
      ],
      "text/plain": [
       "RandomForestClassifier(criterion='entropy', max_depth=9, min_samples_leaf=4,\n",
       "                       min_samples_split=14, n_estimators=10, n_jobs=-1,\n",
       "                       random_state=1)"
      ]
     },
     "execution_count": 83,
     "metadata": {},
     "output_type": "execute_result"
    }
   ],
   "source": [
    "gscv_rf_model.best_estimator_"
   ]
  },
  {
   "cell_type": "code",
   "execution_count": 84,
   "id": "a181a372-21f7-4fe5-a3a4-55ec9fee1b92",
   "metadata": {},
   "outputs": [
    {
     "name": "stdout",
     "output_type": "stream",
     "text": [
      "Train Accuracy : 0.8540772532188842\n",
      "Test Accuracy  : 0.7008547008547008\n"
     ]
    }
   ],
   "source": [
    "rf_clf = gscv_rf_model.best_estimator_\n",
    "rf_clf.fit(x_train_act,y_train_act)\n",
    "print('Train Accuracy :',rf_clf.score(x_train_act, y_train_act))\n",
    "print(\"Test Accuracy  :\",rf_clf.score(x_test_act, y_test_act))"
   ]
  },
  {
   "cell_type": "code",
   "execution_count": 85,
   "id": "28573bf6-3b2d-4abe-96b2-7738fa2f4ad0",
   "metadata": {},
   "outputs": [
    {
     "name": "stdout",
     "output_type": "stream",
     "text": [
      "Confusion Matrix:\n",
      " [[322  11]\n",
      " [ 57  76]]\n",
      "\n",
      "Accuracy : 0.8540772532188842\n",
      "\n",
      "Classification report :\n",
      "               precision    recall  f1-score   support\n",
      "\n",
      "           1       0.85      0.97      0.90       333\n",
      "           2       0.87      0.57      0.69       133\n",
      "\n",
      "    accuracy                           0.85       466\n",
      "   macro avg       0.86      0.77      0.80       466\n",
      "weighted avg       0.86      0.85      0.84       466\n",
      "\n"
     ]
    }
   ],
   "source": [
    "# Training Data Evaluation\n",
    "y_train_pred = rf_clf.predict(x_train_act)\n",
    "cnf_matrix = confusion_matrix(y_train_act, y_train_pred)\n",
    "accuracy = accuracy_score(y_train_act, y_train_pred)\n",
    "clf_report = classification_report(y_train_act, y_train_pred)\n",
    "\n",
    "print(\"Confusion Matrix:\\n\",cnf_matrix,end='\\n\\n')\n",
    "print(\"Accuracy :\",accuracy,end='\\n\\n')\n",
    "print('Classification report :\\n',clf_report)"
   ]
  },
  {
   "cell_type": "code",
   "execution_count": 86,
   "id": "76555507-86d0-4cff-bca3-030f6fca9f51",
   "metadata": {},
   "outputs": [
    {
     "name": "stdout",
     "output_type": "stream",
     "text": [
      "Confusion Matrix:\n",
      " [[76  7]\n",
      " [28  6]]\n",
      "\n",
      "Accuracy : 0.7008547008547008\n",
      "\n",
      "Classification report :\n",
      "               precision    recall  f1-score   support\n",
      "\n",
      "           1       0.73      0.92      0.81        83\n",
      "           2       0.46      0.18      0.26        34\n",
      "\n",
      "    accuracy                           0.70       117\n",
      "   macro avg       0.60      0.55      0.53       117\n",
      "weighted avg       0.65      0.70      0.65       117\n",
      "\n"
     ]
    }
   ],
   "source": [
    "# Test Data Evaluation\n",
    "y_test_pred = rf_clf.predict(x_test_act)\n",
    "cnf_matrix = confusion_matrix(y_test_act, y_test_pred)\n",
    "accuracy = accuracy_score(y_test_act, y_test_pred)\n",
    "clf_report = classification_report(y_test_act, y_test_pred)\n",
    "\n",
    "print(\"Confusion Matrix:\\n\",cnf_matrix,end='\\n\\n')\n",
    "print(\"Accuracy :\",accuracy,end='\\n\\n')\n",
    "print('Classification report :\\n',clf_report)"
   ]
  },
  {
   "cell_type": "code",
   "execution_count": null,
   "id": "f1195c66-8009-48f4-b132-8e0f25fe98a8",
   "metadata": {},
   "outputs": [],
   "source": []
  },
  {
   "cell_type": "markdown",
   "id": "1b7f8d93-17e5-4c11-9d7a-3dc6a461d9e1",
   "metadata": {},
   "source": [
    "## D. Adaboost"
   ]
  },
  {
   "cell_type": "markdown",
   "id": "d6a7cfc0-77ca-47dc-8db6-66317fd36540",
   "metadata": {},
   "source": [
    "#### 1. Model Training"
   ]
  },
  {
   "cell_type": "code",
   "execution_count": 88,
   "id": "82f0c246-218c-4c83-ad73-44052840dfae",
   "metadata": {},
   "outputs": [
    {
     "data": {
      "text/html": [
       "<style>#sk-container-id-17 {color: black;}#sk-container-id-17 pre{padding: 0;}#sk-container-id-17 div.sk-toggleable {background-color: white;}#sk-container-id-17 label.sk-toggleable__label {cursor: pointer;display: block;width: 100%;margin-bottom: 0;padding: 0.3em;box-sizing: border-box;text-align: center;}#sk-container-id-17 label.sk-toggleable__label-arrow:before {content: \"▸\";float: left;margin-right: 0.25em;color: #696969;}#sk-container-id-17 label.sk-toggleable__label-arrow:hover:before {color: black;}#sk-container-id-17 div.sk-estimator:hover label.sk-toggleable__label-arrow:before {color: black;}#sk-container-id-17 div.sk-toggleable__content {max-height: 0;max-width: 0;overflow: hidden;text-align: left;background-color: #f0f8ff;}#sk-container-id-17 div.sk-toggleable__content pre {margin: 0.2em;color: black;border-radius: 0.25em;background-color: #f0f8ff;}#sk-container-id-17 input.sk-toggleable__control:checked~div.sk-toggleable__content {max-height: 200px;max-width: 100%;overflow: auto;}#sk-container-id-17 input.sk-toggleable__control:checked~label.sk-toggleable__label-arrow:before {content: \"▾\";}#sk-container-id-17 div.sk-estimator input.sk-toggleable__control:checked~label.sk-toggleable__label {background-color: #d4ebff;}#sk-container-id-17 div.sk-label input.sk-toggleable__control:checked~label.sk-toggleable__label {background-color: #d4ebff;}#sk-container-id-17 input.sk-hidden--visually {border: 0;clip: rect(1px 1px 1px 1px);clip: rect(1px, 1px, 1px, 1px);height: 1px;margin: -1px;overflow: hidden;padding: 0;position: absolute;width: 1px;}#sk-container-id-17 div.sk-estimator {font-family: monospace;background-color: #f0f8ff;border: 1px dotted black;border-radius: 0.25em;box-sizing: border-box;margin-bottom: 0.5em;}#sk-container-id-17 div.sk-estimator:hover {background-color: #d4ebff;}#sk-container-id-17 div.sk-parallel-item::after {content: \"\";width: 100%;border-bottom: 1px solid gray;flex-grow: 1;}#sk-container-id-17 div.sk-label:hover label.sk-toggleable__label {background-color: #d4ebff;}#sk-container-id-17 div.sk-serial::before {content: \"\";position: absolute;border-left: 1px solid gray;box-sizing: border-box;top: 0;bottom: 0;left: 50%;z-index: 0;}#sk-container-id-17 div.sk-serial {display: flex;flex-direction: column;align-items: center;background-color: white;padding-right: 0.2em;padding-left: 0.2em;position: relative;}#sk-container-id-17 div.sk-item {position: relative;z-index: 1;}#sk-container-id-17 div.sk-parallel {display: flex;align-items: stretch;justify-content: center;background-color: white;position: relative;}#sk-container-id-17 div.sk-item::before, #sk-container-id-17 div.sk-parallel-item::before {content: \"\";position: absolute;border-left: 1px solid gray;box-sizing: border-box;top: 0;bottom: 0;left: 50%;z-index: -1;}#sk-container-id-17 div.sk-parallel-item {display: flex;flex-direction: column;z-index: 1;position: relative;background-color: white;}#sk-container-id-17 div.sk-parallel-item:first-child::after {align-self: flex-end;width: 50%;}#sk-container-id-17 div.sk-parallel-item:last-child::after {align-self: flex-start;width: 50%;}#sk-container-id-17 div.sk-parallel-item:only-child::after {width: 0;}#sk-container-id-17 div.sk-dashed-wrapped {border: 1px dashed gray;margin: 0 0.4em 0.5em 0.4em;box-sizing: border-box;padding-bottom: 0.4em;background-color: white;}#sk-container-id-17 div.sk-label label {font-family: monospace;font-weight: bold;display: inline-block;line-height: 1.2em;}#sk-container-id-17 div.sk-label-container {text-align: center;}#sk-container-id-17 div.sk-container {/* jupyter's `normalize.less` sets `[hidden] { display: none; }` but bootstrap.min.css set `[hidden] { display: none !important; }` so we also need the `!important` here to be able to override the default hidden behavior on the sphinx rendered scikit-learn.org. See: https://github.com/scikit-learn/scikit-learn/issues/21755 */display: inline-block !important;position: relative;}#sk-container-id-17 div.sk-text-repr-fallback {display: none;}</style><div id=\"sk-container-id-17\" class=\"sk-top-container\"><div class=\"sk-text-repr-fallback\"><pre>AdaBoostClassifier()</pre><b>In a Jupyter environment, please rerun this cell to show the HTML representation or trust the notebook. <br />On GitHub, the HTML representation is unable to render, please try loading this page with nbviewer.org.</b></div><div class=\"sk-container\" hidden><div class=\"sk-item\"><div class=\"sk-estimator sk-toggleable\"><input class=\"sk-toggleable__control sk-hidden--visually\" id=\"sk-estimator-id-23\" type=\"checkbox\" checked><label for=\"sk-estimator-id-23\" class=\"sk-toggleable__label sk-toggleable__label-arrow\">AdaBoostClassifier</label><div class=\"sk-toggleable__content\"><pre>AdaBoostClassifier()</pre></div></div></div></div></div>"
      ],
      "text/plain": [
       "AdaBoostClassifier()"
      ]
     },
     "execution_count": 88,
     "metadata": {},
     "output_type": "execute_result"
    }
   ],
   "source": [
    "adb_clf = AdaBoostClassifier()   \n",
    "adb_clf.fit(x_train_act,y_train_act)"
   ]
  },
  {
   "cell_type": "markdown",
   "id": "8286912d-7eaa-497b-84fe-c14edb0f720b",
   "metadata": {},
   "source": [
    "#### 2. Model Evaluation"
   ]
  },
  {
   "cell_type": "code",
   "execution_count": 89,
   "id": "ab06a838-93df-4676-be93-ba5ce06e3390",
   "metadata": {},
   "outputs": [
    {
     "name": "stdout",
     "output_type": "stream",
     "text": [
      "train accuracy: 0.8390557939914163\n",
      "test accuracy: 0.7521367521367521\n"
     ]
    }
   ],
   "source": [
    "y_train_pred = adb_clf.predict(x_train_act)\n",
    "y_test_pred = adb_clf.predict(x_test_act)\n",
    "\n",
    "train_acc = accuracy_score(y_train_pred,y_train_act)\n",
    "test_acc = accuracy_score(y_test_pred,y_test_act)\n",
    "print(\"train accuracy:\",train_acc)\n",
    "print(\"test accuracy:\",test_acc)"
   ]
  },
  {
   "cell_type": "code",
   "execution_count": 90,
   "id": "e2c19ad3-6658-42b6-91f9-799ec61cdcb0",
   "metadata": {},
   "outputs": [
    {
     "name": "stdout",
     "output_type": "stream",
     "text": [
      "Confusion Matrix :\n",
      " [[310  23]\n",
      " [ 52  81]]\n",
      "\n",
      "Accuracy : 0.8390557939914163\n",
      "\n",
      "Classification Report :\n",
      "               precision    recall  f1-score   support\n",
      "\n",
      "           1       0.86      0.93      0.89       333\n",
      "           2       0.78      0.61      0.68       133\n",
      "\n",
      "    accuracy                           0.84       466\n",
      "   macro avg       0.82      0.77      0.79       466\n",
      "weighted avg       0.83      0.84      0.83       466\n",
      "\n"
     ]
    }
   ],
   "source": [
    "# Train Eval\n",
    "y_train_pred = adb_clf.predict(x_train_act)\n",
    "cnf_matrix = confusion_matrix(y_train_act, y_train_pred)    \n",
    "accuracy = accuracy_score(y_train_act, y_train_pred)\n",
    "clf_report = classification_report(y_train_act, y_train_pred)\n",
    "\n",
    "print(\"Confusion Matrix :\\n\", cnf_matrix, end='\\n\\n')\n",
    "print('Accuracy :', accuracy, end='\\n\\n')\n",
    "print(\"Classification Report :\\n\", clf_report)"
   ]
  },
  {
   "cell_type": "code",
   "execution_count": 91,
   "id": "45f57936-9047-45d1-ac86-e3f84b7e4cb4",
   "metadata": {},
   "outputs": [
    {
     "name": "stdout",
     "output_type": "stream",
     "text": [
      "Confusion Matrix :\n",
      " [[73 10]\n",
      " [19 15]]\n",
      "\n",
      "Accuracy : 0.7521367521367521\n",
      "\n",
      "Classification Report :\n",
      "               precision    recall  f1-score   support\n",
      "\n",
      "           1       0.79      0.88      0.83        83\n",
      "           2       0.60      0.44      0.51        34\n",
      "\n",
      "    accuracy                           0.75       117\n",
      "   macro avg       0.70      0.66      0.67       117\n",
      "weighted avg       0.74      0.75      0.74       117\n",
      "\n"
     ]
    }
   ],
   "source": [
    "# Test Eval\n",
    "y_test_pred = adb_clf.predict(x_test_act)\n",
    "cnf_matrix = confusion_matrix(y_test_act, y_test_pred)    \n",
    "accuracy = accuracy_score(y_test_act, y_test_pred)\n",
    "clf_report = classification_report(y_test_act, y_test_pred)\n",
    "\n",
    "print(\"Confusion Matrix :\\n\", cnf_matrix, end='\\n\\n')\n",
    "print('Accuracy :', accuracy, end='\\n\\n')\n",
    "print(\"Classification Report :\\n\", clf_report)"
   ]
  },
  {
   "cell_type": "markdown",
   "id": "34cb0c29-77e9-4e71-9677-fd1ac9f50256",
   "metadata": {},
   "source": [
    "#### 3. Hyperparameter Tuning"
   ]
  },
  {
   "cell_type": "code",
   "execution_count": 93,
   "id": "549f512f-29b8-470d-8ec9-0dedc38ea625",
   "metadata": {},
   "outputs": [
    {
     "data": {
      "text/html": [
       "<style>#sk-container-id-18 {color: black;}#sk-container-id-18 pre{padding: 0;}#sk-container-id-18 div.sk-toggleable {background-color: white;}#sk-container-id-18 label.sk-toggleable__label {cursor: pointer;display: block;width: 100%;margin-bottom: 0;padding: 0.3em;box-sizing: border-box;text-align: center;}#sk-container-id-18 label.sk-toggleable__label-arrow:before {content: \"▸\";float: left;margin-right: 0.25em;color: #696969;}#sk-container-id-18 label.sk-toggleable__label-arrow:hover:before {color: black;}#sk-container-id-18 div.sk-estimator:hover label.sk-toggleable__label-arrow:before {color: black;}#sk-container-id-18 div.sk-toggleable__content {max-height: 0;max-width: 0;overflow: hidden;text-align: left;background-color: #f0f8ff;}#sk-container-id-18 div.sk-toggleable__content pre {margin: 0.2em;color: black;border-radius: 0.25em;background-color: #f0f8ff;}#sk-container-id-18 input.sk-toggleable__control:checked~div.sk-toggleable__content {max-height: 200px;max-width: 100%;overflow: auto;}#sk-container-id-18 input.sk-toggleable__control:checked~label.sk-toggleable__label-arrow:before {content: \"▾\";}#sk-container-id-18 div.sk-estimator input.sk-toggleable__control:checked~label.sk-toggleable__label {background-color: #d4ebff;}#sk-container-id-18 div.sk-label input.sk-toggleable__control:checked~label.sk-toggleable__label {background-color: #d4ebff;}#sk-container-id-18 input.sk-hidden--visually {border: 0;clip: rect(1px 1px 1px 1px);clip: rect(1px, 1px, 1px, 1px);height: 1px;margin: -1px;overflow: hidden;padding: 0;position: absolute;width: 1px;}#sk-container-id-18 div.sk-estimator {font-family: monospace;background-color: #f0f8ff;border: 1px dotted black;border-radius: 0.25em;box-sizing: border-box;margin-bottom: 0.5em;}#sk-container-id-18 div.sk-estimator:hover {background-color: #d4ebff;}#sk-container-id-18 div.sk-parallel-item::after {content: \"\";width: 100%;border-bottom: 1px solid gray;flex-grow: 1;}#sk-container-id-18 div.sk-label:hover label.sk-toggleable__label {background-color: #d4ebff;}#sk-container-id-18 div.sk-serial::before {content: \"\";position: absolute;border-left: 1px solid gray;box-sizing: border-box;top: 0;bottom: 0;left: 50%;z-index: 0;}#sk-container-id-18 div.sk-serial {display: flex;flex-direction: column;align-items: center;background-color: white;padding-right: 0.2em;padding-left: 0.2em;position: relative;}#sk-container-id-18 div.sk-item {position: relative;z-index: 1;}#sk-container-id-18 div.sk-parallel {display: flex;align-items: stretch;justify-content: center;background-color: white;position: relative;}#sk-container-id-18 div.sk-item::before, #sk-container-id-18 div.sk-parallel-item::before {content: \"\";position: absolute;border-left: 1px solid gray;box-sizing: border-box;top: 0;bottom: 0;left: 50%;z-index: -1;}#sk-container-id-18 div.sk-parallel-item {display: flex;flex-direction: column;z-index: 1;position: relative;background-color: white;}#sk-container-id-18 div.sk-parallel-item:first-child::after {align-self: flex-end;width: 50%;}#sk-container-id-18 div.sk-parallel-item:last-child::after {align-self: flex-start;width: 50%;}#sk-container-id-18 div.sk-parallel-item:only-child::after {width: 0;}#sk-container-id-18 div.sk-dashed-wrapped {border: 1px dashed gray;margin: 0 0.4em 0.5em 0.4em;box-sizing: border-box;padding-bottom: 0.4em;background-color: white;}#sk-container-id-18 div.sk-label label {font-family: monospace;font-weight: bold;display: inline-block;line-height: 1.2em;}#sk-container-id-18 div.sk-label-container {text-align: center;}#sk-container-id-18 div.sk-container {/* jupyter's `normalize.less` sets `[hidden] { display: none; }` but bootstrap.min.css set `[hidden] { display: none !important; }` so we also need the `!important` here to be able to override the default hidden behavior on the sphinx rendered scikit-learn.org. See: https://github.com/scikit-learn/scikit-learn/issues/21755 */display: inline-block !important;position: relative;}#sk-container-id-18 div.sk-text-repr-fallback {display: none;}</style><div id=\"sk-container-id-18\" class=\"sk-top-container\"><div class=\"sk-text-repr-fallback\"><pre>GridSearchCV(cv=3, estimator=AdaBoostClassifier(random_state=23),\n",
       "             param_grid={&#x27;learning_rate&#x27;: array([0. , 0.1, 0.2, 0.3, 0.4, 0.5, 0.6, 0.7, 0.8, 0.9]),\n",
       "                         &#x27;n_estimators&#x27;: range(10, 100, 10)})</pre><b>In a Jupyter environment, please rerun this cell to show the HTML representation or trust the notebook. <br />On GitHub, the HTML representation is unable to render, please try loading this page with nbviewer.org.</b></div><div class=\"sk-container\" hidden><div class=\"sk-item sk-dashed-wrapped\"><div class=\"sk-label-container\"><div class=\"sk-label sk-toggleable\"><input class=\"sk-toggleable__control sk-hidden--visually\" id=\"sk-estimator-id-24\" type=\"checkbox\" ><label for=\"sk-estimator-id-24\" class=\"sk-toggleable__label sk-toggleable__label-arrow\">GridSearchCV</label><div class=\"sk-toggleable__content\"><pre>GridSearchCV(cv=3, estimator=AdaBoostClassifier(random_state=23),\n",
       "             param_grid={&#x27;learning_rate&#x27;: array([0. , 0.1, 0.2, 0.3, 0.4, 0.5, 0.6, 0.7, 0.8, 0.9]),\n",
       "                         &#x27;n_estimators&#x27;: range(10, 100, 10)})</pre></div></div></div><div class=\"sk-parallel\"><div class=\"sk-parallel-item\"><div class=\"sk-item\"><div class=\"sk-label-container\"><div class=\"sk-label sk-toggleable\"><input class=\"sk-toggleable__control sk-hidden--visually\" id=\"sk-estimator-id-25\" type=\"checkbox\" ><label for=\"sk-estimator-id-25\" class=\"sk-toggleable__label sk-toggleable__label-arrow\">estimator: AdaBoostClassifier</label><div class=\"sk-toggleable__content\"><pre>AdaBoostClassifier(random_state=23)</pre></div></div></div><div class=\"sk-serial\"><div class=\"sk-item\"><div class=\"sk-estimator sk-toggleable\"><input class=\"sk-toggleable__control sk-hidden--visually\" id=\"sk-estimator-id-26\" type=\"checkbox\" ><label for=\"sk-estimator-id-26\" class=\"sk-toggleable__label sk-toggleable__label-arrow\">AdaBoostClassifier</label><div class=\"sk-toggleable__content\"><pre>AdaBoostClassifier(random_state=23)</pre></div></div></div></div></div></div></div></div></div></div>"
      ],
      "text/plain": [
       "GridSearchCV(cv=3, estimator=AdaBoostClassifier(random_state=23),\n",
       "             param_grid={'learning_rate': array([0. , 0.1, 0.2, 0.3, 0.4, 0.5, 0.6, 0.7, 0.8, 0.9]),\n",
       "                         'n_estimators': range(10, 100, 10)})"
      ]
     },
     "execution_count": 93,
     "metadata": {},
     "output_type": "execute_result"
    }
   ],
   "source": [
    "adb_clf = AdaBoostClassifier(random_state=23)\n",
    "hyp_grid = {'n_estimators':range(10,100,10),\n",
    "            'learning_rate':np.arange(0,1,0.1)}\n",
    "adb_gscv_model = GridSearchCV(adb_clf, param_grid=hyp_grid, cv=3)\n",
    "adb_gscv_model.fit(x_train_act, y_train_act)"
   ]
  },
  {
   "cell_type": "code",
   "execution_count": 94,
   "id": "347b84c1-6816-4cc9-8a10-3669c7d70900",
   "metadata": {},
   "outputs": [
    {
     "data": {
      "text/html": [
       "<style>#sk-container-id-19 {color: black;}#sk-container-id-19 pre{padding: 0;}#sk-container-id-19 div.sk-toggleable {background-color: white;}#sk-container-id-19 label.sk-toggleable__label {cursor: pointer;display: block;width: 100%;margin-bottom: 0;padding: 0.3em;box-sizing: border-box;text-align: center;}#sk-container-id-19 label.sk-toggleable__label-arrow:before {content: \"▸\";float: left;margin-right: 0.25em;color: #696969;}#sk-container-id-19 label.sk-toggleable__label-arrow:hover:before {color: black;}#sk-container-id-19 div.sk-estimator:hover label.sk-toggleable__label-arrow:before {color: black;}#sk-container-id-19 div.sk-toggleable__content {max-height: 0;max-width: 0;overflow: hidden;text-align: left;background-color: #f0f8ff;}#sk-container-id-19 div.sk-toggleable__content pre {margin: 0.2em;color: black;border-radius: 0.25em;background-color: #f0f8ff;}#sk-container-id-19 input.sk-toggleable__control:checked~div.sk-toggleable__content {max-height: 200px;max-width: 100%;overflow: auto;}#sk-container-id-19 input.sk-toggleable__control:checked~label.sk-toggleable__label-arrow:before {content: \"▾\";}#sk-container-id-19 div.sk-estimator input.sk-toggleable__control:checked~label.sk-toggleable__label {background-color: #d4ebff;}#sk-container-id-19 div.sk-label input.sk-toggleable__control:checked~label.sk-toggleable__label {background-color: #d4ebff;}#sk-container-id-19 input.sk-hidden--visually {border: 0;clip: rect(1px 1px 1px 1px);clip: rect(1px, 1px, 1px, 1px);height: 1px;margin: -1px;overflow: hidden;padding: 0;position: absolute;width: 1px;}#sk-container-id-19 div.sk-estimator {font-family: monospace;background-color: #f0f8ff;border: 1px dotted black;border-radius: 0.25em;box-sizing: border-box;margin-bottom: 0.5em;}#sk-container-id-19 div.sk-estimator:hover {background-color: #d4ebff;}#sk-container-id-19 div.sk-parallel-item::after {content: \"\";width: 100%;border-bottom: 1px solid gray;flex-grow: 1;}#sk-container-id-19 div.sk-label:hover label.sk-toggleable__label {background-color: #d4ebff;}#sk-container-id-19 div.sk-serial::before {content: \"\";position: absolute;border-left: 1px solid gray;box-sizing: border-box;top: 0;bottom: 0;left: 50%;z-index: 0;}#sk-container-id-19 div.sk-serial {display: flex;flex-direction: column;align-items: center;background-color: white;padding-right: 0.2em;padding-left: 0.2em;position: relative;}#sk-container-id-19 div.sk-item {position: relative;z-index: 1;}#sk-container-id-19 div.sk-parallel {display: flex;align-items: stretch;justify-content: center;background-color: white;position: relative;}#sk-container-id-19 div.sk-item::before, #sk-container-id-19 div.sk-parallel-item::before {content: \"\";position: absolute;border-left: 1px solid gray;box-sizing: border-box;top: 0;bottom: 0;left: 50%;z-index: -1;}#sk-container-id-19 div.sk-parallel-item {display: flex;flex-direction: column;z-index: 1;position: relative;background-color: white;}#sk-container-id-19 div.sk-parallel-item:first-child::after {align-self: flex-end;width: 50%;}#sk-container-id-19 div.sk-parallel-item:last-child::after {align-self: flex-start;width: 50%;}#sk-container-id-19 div.sk-parallel-item:only-child::after {width: 0;}#sk-container-id-19 div.sk-dashed-wrapped {border: 1px dashed gray;margin: 0 0.4em 0.5em 0.4em;box-sizing: border-box;padding-bottom: 0.4em;background-color: white;}#sk-container-id-19 div.sk-label label {font-family: monospace;font-weight: bold;display: inline-block;line-height: 1.2em;}#sk-container-id-19 div.sk-label-container {text-align: center;}#sk-container-id-19 div.sk-container {/* jupyter's `normalize.less` sets `[hidden] { display: none; }` but bootstrap.min.css set `[hidden] { display: none !important; }` so we also need the `!important` here to be able to override the default hidden behavior on the sphinx rendered scikit-learn.org. See: https://github.com/scikit-learn/scikit-learn/issues/21755 */display: inline-block !important;position: relative;}#sk-container-id-19 div.sk-text-repr-fallback {display: none;}</style><div id=\"sk-container-id-19\" class=\"sk-top-container\"><div class=\"sk-text-repr-fallback\"><pre>AdaBoostClassifier(learning_rate=0.9, n_estimators=10, random_state=23)</pre><b>In a Jupyter environment, please rerun this cell to show the HTML representation or trust the notebook. <br />On GitHub, the HTML representation is unable to render, please try loading this page with nbviewer.org.</b></div><div class=\"sk-container\" hidden><div class=\"sk-item\"><div class=\"sk-estimator sk-toggleable\"><input class=\"sk-toggleable__control sk-hidden--visually\" id=\"sk-estimator-id-27\" type=\"checkbox\" checked><label for=\"sk-estimator-id-27\" class=\"sk-toggleable__label sk-toggleable__label-arrow\">AdaBoostClassifier</label><div class=\"sk-toggleable__content\"><pre>AdaBoostClassifier(learning_rate=0.9, n_estimators=10, random_state=23)</pre></div></div></div></div></div>"
      ],
      "text/plain": [
       "AdaBoostClassifier(learning_rate=0.9, n_estimators=10, random_state=23)"
      ]
     },
     "execution_count": 94,
     "metadata": {},
     "output_type": "execute_result"
    }
   ],
   "source": [
    "adb_gscv_model.best_estimator_"
   ]
  },
  {
   "cell_type": "code",
   "execution_count": 97,
   "id": "a355f0f6-b993-493d-b948-5087442e0fd8",
   "metadata": {},
   "outputs": [
    {
     "name": "stdout",
     "output_type": "stream",
     "text": [
      "train accuracy: 0.7618025751072961\n",
      "test accuracy: 0.7264957264957265\n"
     ]
    }
   ],
   "source": [
    "adb_clf = adb_gscv_model.best_estimator_\n",
    "\n",
    "y_train_pred = adb_clf.predict(x_train_act)\n",
    "y_test_pred = adb_clf.predict(x_test_act)\n",
    "\n",
    "train_acc = accuracy_score(y_train_pred,y_train_act)\n",
    "test_acc = accuracy_score(y_test_pred,y_test_act)\n",
    "print(\"train accuracy:\",train_acc)\n",
    "print(\"test accuracy:\",test_acc)"
   ]
  },
  {
   "cell_type": "code",
   "execution_count": 95,
   "id": "e41fbe49-92dc-433a-b091-357facf1eb69",
   "metadata": {},
   "outputs": [
    {
     "name": "stdout",
     "output_type": "stream",
     "text": [
      "Accuracy : 0.7618025751072961\n",
      "\n",
      "Classification Report :\n",
      "               precision    recall  f1-score   support\n",
      "\n",
      "           1       0.76      0.96      0.85       333\n",
      "           2       0.74      0.26      0.38       133\n",
      "\n",
      "    accuracy                           0.76       466\n",
      "   macro avg       0.75      0.61      0.62       466\n",
      "weighted avg       0.76      0.76      0.72       466\n",
      "\n"
     ]
    }
   ],
   "source": [
    "adb_clf = adb_gscv_model.best_estimator_\n",
    "\n",
    "y_train_pred = adb_clf.predict(x_train_act)\n",
    "accuracy = accuracy_score(y_train_act, y_train_pred)\n",
    "clf_report = classification_report(y_train_act, y_train_pred)\n",
    "\n",
    "print('Accuracy :', accuracy, end='\\n\\n')\n",
    "print(\"Classification Report :\\n\", clf_report)"
   ]
  },
  {
   "cell_type": "code",
   "execution_count": 96,
   "id": "955dcf9a-9a57-4e39-810f-1b091c5725fa",
   "metadata": {},
   "outputs": [
    {
     "name": "stdout",
     "output_type": "stream",
     "text": [
      "Accuracy : 0.7264957264957265\n",
      "\n",
      "Classification Report :\n",
      "               precision    recall  f1-score   support\n",
      "\n",
      "           1       0.74      0.95      0.83        83\n",
      "           2       0.60      0.18      0.27        34\n",
      "\n",
      "    accuracy                           0.73       117\n",
      "   macro avg       0.67      0.56      0.55       117\n",
      "weighted avg       0.70      0.73      0.67       117\n",
      "\n"
     ]
    }
   ],
   "source": [
    "adb_clf = adb_gscv_model.best_estimator_\n",
    "\n",
    "y_test_pred = adb_clf.predict(x_test_act)\n",
    "accuracy = accuracy_score(y_test_act, y_test_pred)\n",
    "clf_report = classification_report(y_test_act, y_test_pred)\n",
    "print('Accuracy :', accuracy, end='\\n\\n')\n",
    "print(\"Classification Report :\\n\", clf_report)"
   ]
  },
  {
   "cell_type": "code",
   "execution_count": null,
   "id": "a2df3050-6309-4b45-8121-9471bd75db94",
   "metadata": {},
   "outputs": [],
   "source": [
    "Adaboost :\n",
    "Before - 84  76\n",
    "after -  76  73"
   ]
  },
  {
   "cell_type": "markdown",
   "id": "85031b33-7b13-452f-8755-b9d96ce7ed2e",
   "metadata": {},
   "source": [
    "## conclusion"
   ]
  },
  {
   "cell_type": "code",
   "execution_count": null,
   "id": "27fb3298-a90b-454f-ba93-40f9a7cccced",
   "metadata": {},
   "outputs": [],
   "source": [
    "           Original                  after Hyp_para_tune\n",
    "\n",
    "           Train     Test            Train     Test\n",
    "knn         0.81     0.74             0.79     0.73\n",
    "Dec Tree    0.94     0.70             0.77    0.65\n",
    "Ran For     1        0.7              0.85     0.7\n",
    "AdaBoost    0.84     0.76             .76       .73"
   ]
  },
  {
   "cell_type": "code",
   "execution_count": null,
   "id": "78e5c922-fc71-43d6-8fd8-704915d69759",
   "metadata": {},
   "outputs": [],
   "source": []
  },
  {
   "cell_type": "code",
   "execution_count": null,
   "id": "30af07b5-e57f-4776-81ee-73087324ed82",
   "metadata": {},
   "outputs": [],
   "source": []
  }
 ],
 "metadata": {
  "kernelspec": {
   "display_name": "Python 3 (ipykernel)",
   "language": "python",
   "name": "python3"
  },
  "language_info": {
   "codemirror_mode": {
    "name": "ipython",
    "version": 3
   },
   "file_extension": ".py",
   "mimetype": "text/x-python",
   "name": "python",
   "nbconvert_exporter": "python",
   "pygments_lexer": "ipython3",
   "version": "3.11.7"
  }
 },
 "nbformat": 4,
 "nbformat_minor": 5
}
